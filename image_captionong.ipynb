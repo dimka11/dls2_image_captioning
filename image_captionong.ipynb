{
  "cells": [
    {
      "cell_type": "markdown",
      "metadata": {
        "id": "qpLplwgOtmOY"
      },
      "source": [
        "<h1 align=\"center\"> Image Captioning </h1>\n",
        "\n",
        "Итак, мы сейчас займемся image captioning =)\n",
        "![img](https://i.imgur.com/obITaMl.png)"
      ]
    },
    {
      "cell_type": "markdown",
      "metadata": {
        "id": "8Ya3uvGqtmOa"
      },
      "source": [
        "## Описание\n",
        "\n",
        "Image captioning -- это когда мы подаем модели каритнку, а она возвращает нам текст с описанием того, что на ней изображено. \n",
        "\n",
        "Как мы знаем из нашего замечательного курса, с картинками лучше всегоработают модели CNN, а с текстом -- RNN. Поэтому логично, что для image captioning нужно совместить и то, и другое =)\n",
        "\n",
        "Для удобства (и, в какой-то степени, экономии времени), мы будем строить не одну большую модель CNN+RNN, которая будет кушать картинку и выдавать текст, а разобьем ее на две. Первая модель будет кушать картинку и выдавать вектор картинки, а вторая модель будет кушать этот вектор и генерировать текст. Вектор, по сути, будет числовым \"описанием\" картинки, в котором будет содержаться вся необходимая информация для второй сети, чтобы та смогла нагенерить текста с описанием. Короче, как в автоэнкодерах)"
      ]
    },
    {
      "cell_type": "markdown",
      "metadata": {
        "id": "EqbinmhstmOb"
      },
      "source": [
        "## План\n",
        "\n",
        "Итак, как мы будем действовать:\n",
        "\n",
        "Датасет: MSCOCO: [описание](http://cocodataset.org/#download), [ссылка для скачивания](https://yadi.sk/d/iK9ZtggjJcGKIA)"
      ]
    },
    {
      "cell_type": "markdown",
      "metadata": {
        "id": "hd7DizkTtmOg"
      },
      "source": [
        "### Базовая часть:\n",
        "1. Скачаем датасет (векторы картинок и соответствующие описания) и предобработаем описания так, как мы любим. Ну, токенизация там (да, в 100500-ый раз, только теперь сами)\n",
        "2. В качестве первой сети возьмем Inception-v3 и скачаем к ней предобученные веса (тренировать и генерировать веса -- это оч долго, поверьте мне). \n",
        "3. Напишем вторую сетку, которая будет брать векторы из Inception-v3 и генерить описания.\n",
        "4. Обучим вторую сеть на MSCOCO\n",
        "\n",
        "### Вариативная часть:\n",
        "Что еще можно сделать:\n",
        "1. Нагуглить другой датасет (в MSCOCO видны паттерны -- все тексты выглядят как \"хто-то с чем-то что-то делает\")\n",
        "2. Взять не Inseption-v3, а другую предобученную сеть\n",
        "3. Запилить аттеншен во второй сети (не, ну а вдруг)\n",
        "4. Написать бота ))0))\n",
        "5. Whatever comes to your head"
      ]
    },
    {
      "cell_type": "markdown",
      "metadata": {
        "id": "Utxq9wvgtmOi"
      },
      "source": [
        "## Базовая часть:"
      ]
    },
    {
      "cell_type": "markdown",
      "metadata": {
        "id": "0Ta8RFKejLRl"
      },
      "source": [
        "### 1. Предобработка текстов из датасета"
      ]
    },
    {
      "cell_type": "code",
      "execution_count": 1,
      "metadata": {
        "id": "9Cx5pbdebD89",
        "colab": {
          "base_uri": "https://localhost:8080/"
        },
        "outputId": "4dd2ab7b-b633-42e3-c23d-c9a323d8e0d3"
      },
      "outputs": [
        {
          "output_type": "stream",
          "name": "stdout",
          "text": [
            "Requirement already satisfied: opencv-python in /usr/local/lib/python3.7/dist-packages (4.1.2.30)\n",
            "Requirement already satisfied: numpy>=1.14.5 in /usr/local/lib/python3.7/dist-packages (from opencv-python) (1.19.5)\n"
          ]
        }
      ],
      "source": [
        "!pip install opencv-python"
      ]
    },
    {
      "cell_type": "code",
      "execution_count": 2,
      "metadata": {
        "colab": {
          "base_uri": "https://localhost:8080/"
        },
        "id": "hoZd450QWS_b",
        "outputId": "461dab62-de51-4e0c-b644-3cbdc52bbd37"
      },
      "outputs": [
        {
          "output_type": "stream",
          "name": "stdout",
          "text": [
            "Mounted at /content/gdrive/\n"
          ]
        }
      ],
      "source": [
        "DATA_PATH = ''\n",
        "%matplotlib inline\n",
        "\n",
        "# For Google Colab only:\n",
        "# import sys\n",
        "# sys.path.append('/content/gdrive/My Drive/Colab Notebooks')\n",
        "#from reco_utils.recommender.sar.sar_singlenode import SARSingleNode\n",
        "from google.colab import drive\n",
        "drive.mount('/content/gdrive/', force_remount=True)"
      ]
    },
    {
      "cell_type": "code",
      "execution_count": 3,
      "metadata": {
        "id": "3D8dOL_jf6wW"
      },
      "outputs": [],
      "source": [
        "!cp '/content/gdrive/MyDrive/Image Captioning/beheaded_inception3.py' ./\n",
        "!cp '/content/gdrive/MyDrive/Image Captioning/handout.tar' ./\n",
        "!tar -xf /content/handout.tar"
      ]
    },
    {
      "cell_type": "code",
      "execution_count": 4,
      "metadata": {
        "id": "LOIyct-ItmOk"
      },
      "outputs": [],
      "source": [
        "import numpy as np\n",
        "import json\n",
        "\n",
        "# загружаем датасет\n",
        "img_codes = np.load(\"./data/image_codes.npy\")\n",
        "captions = json.load(open('./data/captions_tokenized.json'))"
      ]
    },
    {
      "cell_type": "code",
      "execution_count": 5,
      "metadata": {
        "colab": {
          "base_uri": "https://localhost:8080/"
        },
        "id": "om6GHAEdtmOu",
        "outputId": "da709295-3434-448d-a484-b606e18507d3"
      },
      "outputs": [
        {
          "output_type": "stream",
          "name": "stdout",
          "text": [
            "Each image code is a 2048-unit vector [ shape: (118287, 2048) ]\n",
            "[0.3659946  0.2016555  0.9245725  0.57063824 0.547268   0.8275868\n",
            " 0.3687277  0.12085301 0.0561931  0.49758485]\n",
            "\n",
            "For each image there are 5 reference captions, e.g.:\n",
            "\n",
            "people shopping in an open market for vegetables .\n",
            "an open market full of people and piles of vegetables .\n",
            "people are shopping at an open air produce market .\n",
            "large piles of carrots and potatoes at a crowded outdoor market .\n",
            "people shop for vegetables like carrots and potatoes at an open air market .\n"
          ]
        }
      ],
      "source": [
        "# посмотрим на датасет\n",
        "print(\"Each image code is a 2048-unit vector [ shape: %s ]\" % str(img_codes.shape))\n",
        "print(img_codes[0,:10], end='\\n\\n')\n",
        "print(\"For each image there are 5 reference captions, e.g.:\\n\")\n",
        "print('\\n'.join(captions[0]))"
      ]
    },
    {
      "cell_type": "markdown",
      "metadata": {
        "id": "3M3zOw1otmOy"
      },
      "source": [
        "Как можно видеть, в датасете все captions (тексты-описания) уже токенизированы и приведены в нижний регистр. Нам осталось сделать следующее:\n",
        "\n",
        "1. Добавить ко всем описаниям символы начала и конца предложения \n",
        "2. Посчитать частоту встречания каждого слова из словаря и оставить тольео те, которые встречаются больше Х раз (например, Х=5)\n",
        "3. Создать словарь из оставшихся слов + символов начала, конца предложения и PAD символа\n",
        "4. Написать функцию, которая будет возвращать батч из описаний. Мы такое уже делали на прошлвх занятиях. Батч должен выглядеть примерно так:\n",
        "ВАЖНО! Почему я советую писать отдельную функцию, которая генерирует батч: дело в том, что в датасете для каждой картинки есть несколько (5-7) различных описаний. Когда создаете батч, лучше, чтобы в нем были разные картинки, и к каждой картинке при создании батча выбирать одно из ее описаний рандомно. Это проще реализовать в отдельной функции (но вы, конечно, можете писать код как хотите)\n",
        "5. Поделить выборку на train/test\n",
        "\n",
        "[[   1,  525, 8955, 5392, 9640, 4713, 7470,  525, 7341, 2296, 7696,2,    3,    3,    3,    3,    3,    3,    3],\n",
        "   \n",
        "[   1,  525, 8955, 6784, 3557,  525, 7341, 2296,    2,    3,    3,3,    3,    3,    3,    3,    3,    3,    3],\n",
        "\n",
        "[   1,  525, 8955, 9209, 3557, 5486, 8335, 3071, 2296,    2,    3,3,    3,    3,    3,    3,    3,    3,    3],\n",
        "\n",
        "[   1, 6292, 1508, 8955, 9209, 6784, 3557, 3071, 6971, 5520, 7696,2,    3,    3,    3,    3,    3,    3,    3],\n",
        "\n",
        "[   1,  525, 8955, 6784, 3557,  525, 7341, 6919, 2919, 6292,  250,393,  525, 4618, 8335, 6292, 7882, 7696,    2]]\n",
        "         \n",
        "То есть, короткие предложения дополняются PAD символами, слишком длинные обрезуются, в начале и конце по коду символа начал и конца предложения.\n",
        "\n",
        "Уверена, эта часть вам покажется очень знакомой и легкой =)"
      ]
    },
    {
      "cell_type": "code",
      "execution_count": 6,
      "metadata": {
        "id": "NRC58Rw7wRIq"
      },
      "outputs": [],
      "source": [
        "import copy\n",
        "START = \"<START>\"\n",
        "END = \"<END>\"\n",
        "PAD = \"<PAD>\"\n",
        "UNK = \"<UNK>\"\n",
        "captions_processed = copy.deepcopy(captions)\n",
        "for img_captions in range(len(captions)):\n",
        "    for caption in range(len(captions[img_captions])):\n",
        "        sentence = captions[img_captions][caption] \n",
        "        captions_processed[img_captions][caption] = [START]+sentence.split(' ')+[END]"
      ]
    },
    {
      "cell_type": "code",
      "execution_count": 7,
      "metadata": {
        "id": "f8vnOoeHhwmY"
      },
      "outputs": [],
      "source": [
        "from collections import Counter\n",
        "word_counts = Counter()\n",
        "\n",
        "for img_captions in range(len(captions_processed)):\n",
        "    for caption in range(len(captions_processed[img_captions])):\n",
        "        for word in captions_processed[img_captions][caption][1:-1]:\n",
        "          word_counts[word] += 1"
      ]
    },
    {
      "cell_type": "code",
      "execution_count": 8,
      "metadata": {
        "id": "mi-Ecomoh-Qa"
      },
      "outputs": [],
      "source": [
        "vocab = []\n",
        "vocab = [k for k, v in word_counts.items() if v >= 5 if k not in vocab]\n",
        "vocab += [UNK, START, END, PAD]\n",
        "tokens_length = len(vocab)\n",
        "\n",
        "word_to_index = {w: i for i, w in enumerate(vocab)}"
      ]
    },
    {
      "cell_type": "code",
      "execution_count": 9,
      "metadata": {
        "colab": {
          "base_uri": "https://localhost:8080/"
        },
        "id": "hefcfGRtbcPC",
        "outputId": "60021f9e-b250-48cc-a00c-bf90d6479c68"
      },
      "outputs": [
        {
          "output_type": "execute_result",
          "data": {
            "text/plain": [
              "10403"
            ]
          },
          "metadata": {},
          "execution_count": 9
        }
      ],
      "source": [
        "len(vocab)"
      ]
    },
    {
      "cell_type": "code",
      "execution_count": 10,
      "metadata": {
        "id": "tVqysZSQiU_J"
      },
      "outputs": [],
      "source": [
        "eos_ix = word_to_index[END]\n",
        "unk_ix = word_to_index[UNK]\n",
        "pad_ix = word_to_index[PAD]\n",
        "\n",
        "def as_matrix(sequences, max_len=None):\n",
        "    \"\"\" Convert a list of tokens into a matrix with padding \"\"\"\n",
        "    max_len = max_len or max(map(len,sequences))\n",
        "    \n",
        "    matrix = np.zeros((len(sequences), max_len), dtype='int32') + pad_ix\n",
        "    for i,seq in enumerate(sequences):\n",
        "        row_ix = [word_to_index.get(word, unk_ix) for word in seq[:max_len]]\n",
        "        matrix[i, :len(row_ix)] = row_ix\n",
        "    \n",
        "    return matrix"
      ]
    },
    {
      "cell_type": "code",
      "execution_count": 11,
      "metadata": {
        "colab": {
          "base_uri": "https://localhost:8080/"
        },
        "id": "dqGXDAEmieOc",
        "outputId": "87c37bce-21fc-4298-da40-b62ea12c22c5"
      },
      "outputs": [
        {
          "output_type": "execute_result",
          "data": {
            "text/plain": [
              "array([[10400,    20,   117,   118,    54,    20,   439,  3305,  1658,\n",
              "        10401, 10402, 10402, 10402, 10402],\n",
              "       [10400,    20,   127,    43,   117,    54,    20,  4806,   326,\n",
              "          118,     8, 10401, 10402, 10402],\n",
              "       [10400,  3698,    11,   769,   118,   137,    10,    20,   117,\n",
              "        10401, 10402, 10402, 10402, 10402],\n",
              "       [10400,    20,    43,   118,   136,     2,    20,   117,   370,\n",
              "           20,  3601,    98,     8, 10401],\n",
              "       [10400,    41,   117,    37,   769,    11,   620,   113,   512,\n",
              "         1853,     8, 10401, 10402, 10402]], dtype=int32)"
            ]
          },
          "metadata": {},
          "execution_count": 11
        }
      ],
      "source": [
        "as_matrix(captions_processed[2545])"
      ]
    },
    {
      "cell_type": "code",
      "execution_count": 12,
      "metadata": {
        "id": "yWidGqMemHd0"
      },
      "outputs": [],
      "source": [
        "from random import choice\n",
        "import torch, torch.nn as nn\n",
        "import torch.nn.functional as F\n",
        "\n",
        "def generate_batch(img_codes, captions, batch_size, max_caption_len=None):\n",
        "    \n",
        "    random_image_ix = np.random.randint(0, len(img_codes), size=batch_size)\n",
        "    batch_images = img_codes[random_image_ix]\n",
        "    captions_for_batch_images = captions[random_image_ix]\n",
        "    \n",
        "    batch_captions = list(map(choice,captions_for_batch_images))\n",
        "    batch_captions_ix = as_matrix(batch_captions,max_len=max_caption_len)\n",
        "    \n",
        "    return torch.tensor(batch_images, dtype=torch.float32), torch.tensor(batch_captions_ix, dtype=torch.int64)"
      ]
    },
    {
      "cell_type": "code",
      "execution_count": 13,
      "metadata": {
        "id": "WeXq9VvFlxl_"
      },
      "outputs": [],
      "source": [
        "from sklearn.model_selection import train_test_split\n",
        "\n",
        "captions = np.array(captions)\n",
        "train_img_codes, val_img_codes, train_captions, val_captions = train_test_split(img_codes, captions, test_size=0.15, random_state=24)"
      ]
    },
    {
      "cell_type": "markdown",
      "metadata": {
        "id": "leHdzi4ntmOz"
      },
      "source": [
        "### 2. Напишем свою сетку из RNN для вывода описаний\n"
      ]
    },
    {
      "cell_type": "markdown",
      "metadata": {
        "id": "q9NKJKlNJPRE"
      },
      "source": [
        "Сейчас мы напишем сеть, которая будет получать выходы CNN-сетки (эмбеддинги картинок) и преобразовывать их в текст."
      ]
    },
    {
      "cell_type": "code",
      "execution_count": 14,
      "metadata": {
        "id": "6PJTCTYTtmO2"
      },
      "outputs": [],
      "source": [
        "class CaptionNet(nn.Module):\n",
        "    def __init__(self, cnn_feature_size=2048, lstm_feature_size=256, emb_size=128, tokens_size=0):\n",
        "        super(self.__class__, self).__init__()\n",
        "\n",
        "        # стандартная архитектура такой сети такая: \n",
        "        # 1. линейные слои для преобразования эмбеддиинга картинки в начальные состояния h0 и c0 LSTM-ки\n",
        "        self.cnn_h0 = nn.Linear(cnn_feature_size, lstm_feature_size)\n",
        "        self.cnn_c0 = nn.Linear(cnn_feature_size, lstm_feature_size)\n",
        "\n",
        "        # 2. слой эмбедднга\n",
        "        self.emb = nn.Embedding(tokens_size, emb_size, padding_idx = pad_ix)\n",
        "\n",
        "        # 3. несколько LSTM слоев (для начала не берите больше двух, чтобы долго не ждать)\n",
        "        self.lstm = nn.LSTM(input_size=emb_size, hidden_size=lstm_feature_size, batch_first = True, num_layers=1)\n",
        "\n",
        "        # 4. линейный слой для получения логитов\n",
        "        self.logits = nn.Linear(lstm_feature_size, tokens_size)\n",
        "        \n",
        "    def forward(self, image_vectors, captions_ix):\n",
        "        \"\"\" \n",
        "        Apply the network in training mode. \n",
        "        :param image_vectors: torch tensor, содержащий выходы inseption. Те, из которых будем генерить текст\n",
        "                shape: [batch, cnn_feature_size]\n",
        "        :param captions_ix: \n",
        "                таргет описания картинок в виде матрицы\n",
        "        :returns: логиты для сгенерированного текста описания, shape: [batch, word_i, n_tokens]\n",
        "\n",
        "        Обратите внимание, что мы подаем сети на вход сразу все префиксы описания \n",
        "        и просим ее к каждому префиксу сгенерировать следующее слово!\n",
        "        \"\"\"\n",
        "        \n",
        "        # 1. инициализируем LSTM state\n",
        "        initial_cell = self.cnn_c0(image_vectors)\n",
        "        initial_hid = self.cnn_h0(image_vectors)\n",
        "        # 2. применим слой эмбеддингов к image_vectors\n",
        "        captions_emb = self.emb(captions_ix)\n",
        "        # 3. скормим LSTM captions_emb\n",
        "        lstm_out, _ = self.lstm(captions_emb, (initial_cell.unsqueeze(0), initial_hid.unsqueeze(0)))\n",
        "        # 4. посчитаем логиты из выхода LSTM\n",
        "        logits = self.logits(lstm_out)\n",
        "        \n",
        "        return logits        "
      ]
    },
    {
      "cell_type": "code",
      "execution_count": 15,
      "metadata": {
        "id": "fT_rBGwStmO5"
      },
      "outputs": [],
      "source": [
        "def compute_loss(network, image_vectors, captions_ix):\n",
        "    \"\"\"\n",
        "    :param image_vectors: torch tensor c выходами inception. shape: [batch, cnn_feature_size]\n",
        "    :param captions_ix: torch tensor с описаниями (в виде матрицы). shape: [batch, word_i]. \n",
        "    \n",
        "    :returns: scalar crossentropy loss (neg log likelihood) for next captions_ix given previous ones\n",
        "    \"\"\"\n",
        "\n",
        "    image_vectors = image_vectors.to(device)\n",
        "    captions_ix = captions_ix.to(device)\n",
        "    \n",
        "    # реализуйте стандартный cross entropy loss: итоговый лосс есть сумма лоссов для каждого слова.\n",
        "    captions_ix_inp = captions_ix[:, :-1].contiguous()\n",
        "    captions_ix_next = captions_ix[:, 1:].contiguous()\n",
        "    mask = captions_ix_next != pad_ix \n",
        "    # 1. Получаем логиты, прогоняя image_vectors через сеть\n",
        "    logits_for_next = network(image_vectors.to(device), captions_ix_inp)\n",
        "    # 2. Вычисляем лосс-функцию между полученными логитами и captions_ix. Будьте внимательны: \n",
        "    # вычисляйте лосс между логитами, полученными из сети, и соответствующими им значениями из captions_ix!\n",
        "    next_reshaped = captions_ix_next.view(-1)\n",
        "    logits_reshaped = logits_for_next.view(-1, logits_for_next.size()[-1])\n",
        "    \n",
        "    # ВАЖНО: не забудтье, что PADDING не должен влиять на лосс -- лосс должен склыдваться\n",
        "    # только из тех мест, где должно быть предсказано слово, а не PAD\n",
        "    # это можно сделать либо заведя маску из нулей и единиц (captions_ix_next != pad_ix) и умножить на нее лосс,\n",
        "    # либо просто используя ignore_index, который в торче есть как аргумент у некоторых лоссов.\n",
        "    cross_entropy = nn.CrossEntropyLoss(reduction = 'none').to(device)\n",
        "    loss = cross_entropy(logits_reshaped, next_reshaped).view(captions_ix_next.size()[0], captions_ix_next.size()[1]) * mask.float()\n",
        "    \n",
        "    return loss.mean(dim = -1).mean(dim = -1).view(-1)"
      ]
    },
    {
      "cell_type": "code",
      "execution_count": 16,
      "metadata": {
        "id": "eKWdTAKlvVH-"
      },
      "outputs": [],
      "source": [
        "device = torch.device(\"cuda\" if torch.cuda.is_available() else \"cpu\")\n",
        "network = CaptionNet(tokens_size=tokens_length).to(device)\n",
        "\n",
        "optimizer = torch.optim.Adam(network.parameters(), lr=1e-3) # favourite one"
      ]
    },
    {
      "cell_type": "markdown",
      "metadata": {
        "id": "R_5hPH4LtmO-"
      },
      "source": [
        "## Train it"
      ]
    },
    {
      "cell_type": "markdown",
      "metadata": {
        "id": "0N0Elg2gJuyW"
      },
      "source": [
        "Как обычно, пишем цикл тренировки, запоминаем лоссы для графиков и раз в Х такстов тренировки считаем val_loss. "
      ]
    },
    {
      "cell_type": "code",
      "execution_count": 17,
      "metadata": {
        "id": "oNb5JPGvtmO_"
      },
      "outputs": [],
      "source": [
        "batch_size = 128\n",
        "n_epochs = 200\n",
        "n_batches_per_epoch = 300\n",
        "n_validation_batches = 10"
      ]
    },
    {
      "cell_type": "code",
      "source": [
        "# network.load_state_dict(torch.load('./'))"
      ],
      "metadata": {
        "id": "b5hPNeJ4FH3_"
      },
      "execution_count": null,
      "outputs": []
    },
    {
      "cell_type": "code",
      "execution_count": 18,
      "metadata": {
        "colab": {
          "base_uri": "https://localhost:8080/"
        },
        "id": "3kpkOhJLsz0Y",
        "outputId": "052cf6f1-825e-4efe-f13b-f0060dc94ce1"
      },
      "outputs": [
        {
          "output_type": "stream",
          "name": "stderr",
          "text": [
            "100%|██████████| 300/300 [00:27<00:00, 10.81it/s]\n"
          ]
        },
        {
          "output_type": "stream",
          "name": "stdout",
          "text": [
            "\n",
            "Epoch: 1, train loss: 1.2507879012823104, val loss: 0.8334217727184295\n"
          ]
        },
        {
          "output_type": "stream",
          "name": "stderr",
          "text": [
            "100%|██████████| 300/300 [00:29<00:00, 10.30it/s]\n"
          ]
        },
        {
          "output_type": "stream",
          "name": "stdout",
          "text": [
            "\n",
            "Epoch: 2, train loss: 0.8697737540801366, val loss: 0.8160378873348236\n"
          ]
        },
        {
          "output_type": "stream",
          "name": "stderr",
          "text": [
            "100%|██████████| 300/300 [00:28<00:00, 10.47it/s]\n"
          ]
        },
        {
          "output_type": "stream",
          "name": "stdout",
          "text": [
            "\n",
            "Epoch: 3, train loss: 0.7724815098444621, val loss: 0.6294618308544159\n"
          ]
        },
        {
          "output_type": "stream",
          "name": "stderr",
          "text": [
            "100%|██████████| 300/300 [00:28<00:00, 10.45it/s]\n"
          ]
        },
        {
          "output_type": "stream",
          "name": "stdout",
          "text": [
            "\n",
            "Epoch: 4, train loss: 0.7051422225435575, val loss: 0.6615752309560776\n"
          ]
        },
        {
          "output_type": "stream",
          "name": "stderr",
          "text": [
            "100%|██████████| 300/300 [00:29<00:00, 10.19it/s]\n"
          ]
        },
        {
          "output_type": "stream",
          "name": "stdout",
          "text": [
            "\n",
            "Epoch: 5, train loss: 0.647975865205129, val loss: 0.6211148619651794\n"
          ]
        },
        {
          "output_type": "stream",
          "name": "stderr",
          "text": [
            "100%|██████████| 300/300 [00:29<00:00, 10.20it/s]\n"
          ]
        },
        {
          "output_type": "stream",
          "name": "stdout",
          "text": [
            "\n",
            "Epoch: 6, train loss: 0.6155139033993086, val loss: 0.5749154090881348\n"
          ]
        },
        {
          "output_type": "stream",
          "name": "stderr",
          "text": [
            "100%|██████████| 300/300 [00:30<00:00,  9.95it/s]\n"
          ]
        },
        {
          "output_type": "stream",
          "name": "stdout",
          "text": [
            "\n",
            "Epoch: 7, train loss: 0.5878141421079636, val loss: 0.5797051668167115\n"
          ]
        },
        {
          "output_type": "stream",
          "name": "stderr",
          "text": [
            "100%|██████████| 300/300 [00:29<00:00, 10.21it/s]\n"
          ]
        },
        {
          "output_type": "stream",
          "name": "stdout",
          "text": [
            "\n",
            "Epoch: 8, train loss: 0.5735890223582586, val loss: 0.6313825100660324\n"
          ]
        },
        {
          "output_type": "stream",
          "name": "stderr",
          "text": [
            "100%|██████████| 300/300 [00:29<00:00, 10.08it/s]\n"
          ]
        },
        {
          "output_type": "stream",
          "name": "stdout",
          "text": [
            "\n",
            "Epoch: 9, train loss: 0.5549841807285945, val loss: 0.5587321788072586\n"
          ]
        },
        {
          "output_type": "stream",
          "name": "stderr",
          "text": [
            "100%|██████████| 300/300 [00:29<00:00, 10.07it/s]\n"
          ]
        },
        {
          "output_type": "stream",
          "name": "stdout",
          "text": [
            "\n",
            "Epoch: 10, train loss: 0.5369602791468302, val loss: 0.5528934895992279\n"
          ]
        },
        {
          "output_type": "stream",
          "name": "stderr",
          "text": [
            "100%|██████████| 300/300 [00:29<00:00, 10.09it/s]\n"
          ]
        },
        {
          "output_type": "stream",
          "name": "stdout",
          "text": [
            "\n",
            "Epoch: 11, train loss: 0.5233096177875995, val loss: 0.52865449488163\n"
          ]
        },
        {
          "output_type": "stream",
          "name": "stderr",
          "text": [
            "100%|██████████| 300/300 [00:30<00:00,  9.98it/s]\n"
          ]
        },
        {
          "output_type": "stream",
          "name": "stdout",
          "text": [
            "\n",
            "Epoch: 12, train loss: 0.5125777241090933, val loss: 0.44159899950027465\n"
          ]
        },
        {
          "output_type": "stream",
          "name": "stderr",
          "text": [
            "100%|██████████| 300/300 [00:29<00:00, 10.11it/s]\n"
          ]
        },
        {
          "output_type": "stream",
          "name": "stdout",
          "text": [
            "\n",
            "Epoch: 13, train loss: 0.5033691977461179, val loss: 0.5056002527475357\n"
          ]
        },
        {
          "output_type": "stream",
          "name": "stderr",
          "text": [
            "100%|██████████| 300/300 [00:30<00:00,  9.87it/s]\n"
          ]
        },
        {
          "output_type": "stream",
          "name": "stdout",
          "text": [
            "\n",
            "Epoch: 14, train loss: 0.4916920047998428, val loss: 0.5403404742479324\n"
          ]
        },
        {
          "output_type": "stream",
          "name": "stderr",
          "text": [
            "100%|██████████| 300/300 [00:30<00:00,  9.79it/s]\n"
          ]
        },
        {
          "output_type": "stream",
          "name": "stdout",
          "text": [
            "\n",
            "Epoch: 15, train loss: 0.4852036256094774, val loss: 0.5564077913761138\n"
          ]
        },
        {
          "output_type": "stream",
          "name": "stderr",
          "text": [
            "100%|██████████| 300/300 [00:29<00:00, 10.24it/s]\n"
          ]
        },
        {
          "output_type": "stream",
          "name": "stdout",
          "text": [
            "\n",
            "Epoch: 16, train loss: 0.4940108689169089, val loss: 0.43055268824100495\n"
          ]
        },
        {
          "output_type": "stream",
          "name": "stderr",
          "text": [
            "100%|██████████| 300/300 [00:29<00:00, 10.23it/s]\n"
          ]
        },
        {
          "output_type": "stream",
          "name": "stdout",
          "text": [
            "\n",
            "Epoch: 17, train loss: 0.4856796446442604, val loss: 0.4601495355367661\n"
          ]
        },
        {
          "output_type": "stream",
          "name": "stderr",
          "text": [
            "100%|██████████| 300/300 [00:30<00:00,  9.94it/s]\n"
          ]
        },
        {
          "output_type": "stream",
          "name": "stdout",
          "text": [
            "\n",
            "Epoch: 18, train loss: 0.47366417199373245, val loss: 0.4949633330106735\n"
          ]
        },
        {
          "output_type": "stream",
          "name": "stderr",
          "text": [
            "100%|██████████| 300/300 [00:29<00:00, 10.03it/s]\n"
          ]
        },
        {
          "output_type": "stream",
          "name": "stdout",
          "text": [
            "\n",
            "Epoch: 19, train loss: 0.4721860884130001, val loss: 0.5057175487279892\n"
          ]
        },
        {
          "output_type": "stream",
          "name": "stderr",
          "text": [
            "100%|██████████| 300/300 [00:29<00:00, 10.14it/s]\n"
          ]
        },
        {
          "output_type": "stream",
          "name": "stdout",
          "text": [
            "\n",
            "Epoch: 20, train loss: 0.47112577517827353, val loss: 0.49445545077323916\n"
          ]
        },
        {
          "output_type": "stream",
          "name": "stderr",
          "text": [
            "100%|██████████| 300/300 [00:30<00:00,  9.94it/s]\n"
          ]
        },
        {
          "output_type": "stream",
          "name": "stdout",
          "text": [
            "\n",
            "Epoch: 21, train loss: 0.46081228638688726, val loss: 0.46519988477230073\n"
          ]
        },
        {
          "output_type": "stream",
          "name": "stderr",
          "text": [
            "100%|██████████| 300/300 [00:30<00:00,  9.93it/s]\n"
          ]
        },
        {
          "output_type": "stream",
          "name": "stdout",
          "text": [
            "\n",
            "Epoch: 22, train loss: 0.4560136650502682, val loss: 0.43270183354616165\n"
          ]
        },
        {
          "output_type": "stream",
          "name": "stderr",
          "text": [
            "100%|██████████| 300/300 [00:29<00:00, 10.33it/s]\n"
          ]
        },
        {
          "output_type": "stream",
          "name": "stdout",
          "text": [
            "\n",
            "Epoch: 23, train loss: 0.46911851276954014, val loss: 0.4836567223072052\n"
          ]
        },
        {
          "output_type": "stream",
          "name": "stderr",
          "text": [
            "100%|██████████| 300/300 [00:30<00:00,  9.83it/s]\n"
          ]
        },
        {
          "output_type": "stream",
          "name": "stdout",
          "text": [
            "\n",
            "Epoch: 24, train loss: 0.44913517554601035, val loss: 0.4676882982254028\n"
          ]
        },
        {
          "output_type": "stream",
          "name": "stderr",
          "text": [
            "100%|██████████| 300/300 [00:29<00:00, 10.02it/s]\n"
          ]
        },
        {
          "output_type": "stream",
          "name": "stdout",
          "text": [
            "\n",
            "Epoch: 25, train loss: 0.45404063115517296, val loss: 0.4277577012777328\n"
          ]
        },
        {
          "output_type": "stream",
          "name": "stderr",
          "text": [
            "100%|██████████| 300/300 [00:29<00:00, 10.27it/s]\n"
          ]
        },
        {
          "output_type": "stream",
          "name": "stdout",
          "text": [
            "\n",
            "Epoch: 26, train loss: 0.45864663243293763, val loss: 0.4361457496881485\n"
          ]
        },
        {
          "output_type": "stream",
          "name": "stderr",
          "text": [
            "100%|██████████| 300/300 [00:29<00:00, 10.13it/s]\n"
          ]
        },
        {
          "output_type": "stream",
          "name": "stdout",
          "text": [
            "\n",
            "Epoch: 27, train loss: 0.45634084711472195, val loss: 0.46873435378074646\n"
          ]
        },
        {
          "output_type": "stream",
          "name": "stderr",
          "text": [
            "100%|██████████| 300/300 [00:29<00:00, 10.04it/s]\n"
          ]
        },
        {
          "output_type": "stream",
          "name": "stdout",
          "text": [
            "\n",
            "Epoch: 28, train loss: 0.445982126891613, val loss: 0.45566719174385073\n"
          ]
        },
        {
          "output_type": "stream",
          "name": "stderr",
          "text": [
            "100%|██████████| 300/300 [00:30<00:00,  9.90it/s]\n"
          ]
        },
        {
          "output_type": "stream",
          "name": "stdout",
          "text": [
            "\n",
            "Epoch: 29, train loss: 0.4419183254738649, val loss: 0.4465249925851822\n"
          ]
        },
        {
          "output_type": "stream",
          "name": "stderr",
          "text": [
            "100%|██████████| 300/300 [00:30<00:00,  9.85it/s]\n"
          ]
        },
        {
          "output_type": "stream",
          "name": "stdout",
          "text": [
            "\n",
            "Epoch: 30, train loss: 0.43606619169314703, val loss: 0.42142349779605864\n"
          ]
        },
        {
          "output_type": "stream",
          "name": "stderr",
          "text": [
            "100%|██████████| 300/300 [00:30<00:00,  9.81it/s]\n"
          ]
        },
        {
          "output_type": "stream",
          "name": "stdout",
          "text": [
            "\n",
            "Epoch: 31, train loss: 0.4361750365793705, val loss: 0.4900379300117493\n"
          ]
        },
        {
          "output_type": "stream",
          "name": "stderr",
          "text": [
            "100%|██████████| 300/300 [00:31<00:00,  9.64it/s]\n"
          ]
        },
        {
          "output_type": "stream",
          "name": "stdout",
          "text": [
            "\n",
            "Epoch: 32, train loss: 0.4295610439777374, val loss: 0.46233755350112915\n"
          ]
        },
        {
          "output_type": "stream",
          "name": "stderr",
          "text": [
            "100%|██████████| 300/300 [00:30<00:00,  9.94it/s]\n"
          ]
        },
        {
          "output_type": "stream",
          "name": "stdout",
          "text": [
            "\n",
            "Epoch: 33, train loss: 0.4352835116783778, val loss: 0.4120555013418198\n"
          ]
        },
        {
          "output_type": "stream",
          "name": "stderr",
          "text": [
            "100%|██████████| 300/300 [00:31<00:00,  9.65it/s]\n"
          ]
        },
        {
          "output_type": "stream",
          "name": "stdout",
          "text": [
            "\n",
            "Epoch: 34, train loss: 0.4215473997096221, val loss: 0.42453798949718474\n"
          ]
        },
        {
          "output_type": "stream",
          "name": "stderr",
          "text": [
            "100%|██████████| 300/300 [00:30<00:00,  9.92it/s]\n"
          ]
        },
        {
          "output_type": "stream",
          "name": "stdout",
          "text": [
            "\n",
            "Epoch: 35, train loss: 0.4301647886633873, val loss: 0.4484302818775177\n"
          ]
        },
        {
          "output_type": "stream",
          "name": "stderr",
          "text": [
            "100%|██████████| 300/300 [00:30<00:00,  9.96it/s]\n"
          ]
        },
        {
          "output_type": "stream",
          "name": "stdout",
          "text": [
            "\n",
            "Epoch: 36, train loss: 0.43122286041577657, val loss: 0.36709338128566743\n"
          ]
        },
        {
          "output_type": "stream",
          "name": "stderr",
          "text": [
            "100%|██████████| 300/300 [00:30<00:00,  9.97it/s]\n"
          ]
        },
        {
          "output_type": "stream",
          "name": "stdout",
          "text": [
            "\n",
            "Epoch: 37, train loss: 0.42682237113515537, val loss: 0.44666113555431364\n"
          ]
        },
        {
          "output_type": "stream",
          "name": "stderr",
          "text": [
            "100%|██████████| 300/300 [00:29<00:00, 10.27it/s]\n"
          ]
        },
        {
          "output_type": "stream",
          "name": "stdout",
          "text": [
            "\n",
            "Epoch: 38, train loss: 0.4369939099252224, val loss: 0.4195866584777832\n"
          ]
        },
        {
          "output_type": "stream",
          "name": "stderr",
          "text": [
            "100%|██████████| 300/300 [00:30<00:00,  9.89it/s]\n"
          ]
        },
        {
          "output_type": "stream",
          "name": "stdout",
          "text": [
            "\n",
            "Epoch: 39, train loss: 0.4232643488546213, val loss: 0.47839836180210116\n"
          ]
        },
        {
          "output_type": "stream",
          "name": "stderr",
          "text": [
            "100%|██████████| 300/300 [00:29<00:00, 10.17it/s]\n"
          ]
        },
        {
          "output_type": "stream",
          "name": "stdout",
          "text": [
            "\n",
            "Epoch: 40, train loss: 0.43179286087552704, val loss: 0.4788677513599396\n"
          ]
        },
        {
          "output_type": "stream",
          "name": "stderr",
          "text": [
            "100%|██████████| 300/300 [00:30<00:00,  9.84it/s]\n"
          ]
        },
        {
          "output_type": "stream",
          "name": "stdout",
          "text": [
            "\n",
            "Epoch: 41, train loss: 0.42023629541198415, val loss: 0.4259908854961395\n"
          ]
        },
        {
          "output_type": "stream",
          "name": "stderr",
          "text": [
            "100%|██████████| 300/300 [00:30<00:00,  9.99it/s]\n"
          ]
        },
        {
          "output_type": "stream",
          "name": "stdout",
          "text": [
            "\n",
            "Epoch: 42, train loss: 0.42287082701921463, val loss: 0.43992916494607925\n"
          ]
        },
        {
          "output_type": "stream",
          "name": "stderr",
          "text": [
            "100%|██████████| 300/300 [00:30<00:00,  9.94it/s]\n"
          ]
        },
        {
          "output_type": "stream",
          "name": "stdout",
          "text": [
            "\n",
            "Epoch: 43, train loss: 0.41816706930597625, val loss: 0.3862319141626358\n"
          ]
        },
        {
          "output_type": "stream",
          "name": "stderr",
          "text": [
            "100%|██████████| 300/300 [00:30<00:00,  9.90it/s]\n"
          ]
        },
        {
          "output_type": "stream",
          "name": "stdout",
          "text": [
            "\n",
            "Epoch: 44, train loss: 0.41620725139975545, val loss: 0.4082074135541916\n"
          ]
        },
        {
          "output_type": "stream",
          "name": "stderr",
          "text": [
            "100%|██████████| 300/300 [00:29<00:00, 10.06it/s]\n"
          ]
        },
        {
          "output_type": "stream",
          "name": "stdout",
          "text": [
            "\n",
            "Epoch: 45, train loss: 0.42434071496129033, val loss: 0.3956893444061279\n"
          ]
        },
        {
          "output_type": "stream",
          "name": "stderr",
          "text": [
            "100%|██████████| 300/300 [00:29<00:00, 10.07it/s]\n"
          ]
        },
        {
          "output_type": "stream",
          "name": "stdout",
          "text": [
            "\n",
            "Epoch: 46, train loss: 0.4234015016257763, val loss: 0.4016728013753891\n"
          ]
        },
        {
          "output_type": "stream",
          "name": "stderr",
          "text": [
            "100%|██████████| 300/300 [00:29<00:00, 10.09it/s]\n"
          ]
        },
        {
          "output_type": "stream",
          "name": "stdout",
          "text": [
            "\n",
            "Epoch: 47, train loss: 0.42120016664266585, val loss: 0.41331351101398467\n"
          ]
        },
        {
          "output_type": "stream",
          "name": "stderr",
          "text": [
            "100%|██████████| 300/300 [00:30<00:00,  9.87it/s]\n"
          ]
        },
        {
          "output_type": "stream",
          "name": "stdout",
          "text": [
            "\n",
            "Epoch: 48, train loss: 0.410631136794885, val loss: 0.4208552181720734\n"
          ]
        },
        {
          "output_type": "stream",
          "name": "stderr",
          "text": [
            "100%|██████████| 300/300 [00:30<00:00,  9.84it/s]\n"
          ]
        },
        {
          "output_type": "stream",
          "name": "stdout",
          "text": [
            "\n",
            "Epoch: 49, train loss: 0.4080455938975016, val loss: 0.3815036788582802\n"
          ]
        },
        {
          "output_type": "stream",
          "name": "stderr",
          "text": [
            "100%|██████████| 300/300 [00:29<00:00, 10.18it/s]\n"
          ]
        },
        {
          "output_type": "stream",
          "name": "stdout",
          "text": [
            "\n",
            "Epoch: 50, train loss: 0.418976363192002, val loss: 0.3608398035168648\n"
          ]
        },
        {
          "output_type": "stream",
          "name": "stderr",
          "text": [
            "100%|██████████| 300/300 [00:29<00:00, 10.26it/s]\n"
          ]
        },
        {
          "output_type": "stream",
          "name": "stdout",
          "text": [
            "\n",
            "Epoch: 51, train loss: 0.41793280879656475, val loss: 0.4301708906888962\n"
          ]
        },
        {
          "output_type": "stream",
          "name": "stderr",
          "text": [
            "100%|██████████| 300/300 [00:29<00:00, 10.16it/s]\n"
          ]
        },
        {
          "output_type": "stream",
          "name": "stdout",
          "text": [
            "\n",
            "Epoch: 52, train loss: 0.4142690312862396, val loss: 0.3833148956298828\n"
          ]
        },
        {
          "output_type": "stream",
          "name": "stderr",
          "text": [
            "100%|██████████| 300/300 [00:30<00:00,  9.85it/s]\n"
          ]
        },
        {
          "output_type": "stream",
          "name": "stdout",
          "text": [
            "\n",
            "Epoch: 53, train loss: 0.40812349364161493, val loss: 0.37115027457475663\n"
          ]
        },
        {
          "output_type": "stream",
          "name": "stderr",
          "text": [
            "100%|██████████| 300/300 [00:29<00:00, 10.07it/s]\n"
          ]
        },
        {
          "output_type": "stream",
          "name": "stdout",
          "text": [
            "\n",
            "Epoch: 54, train loss: 0.4119567867120107, val loss: 0.40121195614337923\n"
          ]
        },
        {
          "output_type": "stream",
          "name": "stderr",
          "text": [
            "100%|██████████| 300/300 [00:29<00:00, 10.26it/s]\n"
          ]
        },
        {
          "output_type": "stream",
          "name": "stdout",
          "text": [
            "\n",
            "Epoch: 55, train loss: 0.41714767217636106, val loss: 0.41219794750213623\n"
          ]
        },
        {
          "output_type": "stream",
          "name": "stderr",
          "text": [
            "100%|██████████| 300/300 [00:30<00:00,  9.83it/s]\n"
          ]
        },
        {
          "output_type": "stream",
          "name": "stdout",
          "text": [
            "\n",
            "Epoch: 56, train loss: 0.40394359494249027, val loss: 0.42771402895450594\n"
          ]
        },
        {
          "output_type": "stream",
          "name": "stderr",
          "text": [
            "100%|██████████| 300/300 [00:29<00:00, 10.13it/s]\n"
          ]
        },
        {
          "output_type": "stream",
          "name": "stdout",
          "text": [
            "\n",
            "Epoch: 57, train loss: 0.41274862582484884, val loss: 0.4259937673807144\n"
          ]
        },
        {
          "output_type": "stream",
          "name": "stderr",
          "text": [
            "100%|██████████| 300/300 [00:30<00:00,  9.84it/s]\n"
          ]
        },
        {
          "output_type": "stream",
          "name": "stdout",
          "text": [
            "\n",
            "Epoch: 58, train loss: 0.4058191631237666, val loss: 0.39289489984512327\n"
          ]
        },
        {
          "output_type": "stream",
          "name": "stderr",
          "text": [
            "100%|██████████| 300/300 [00:30<00:00,  9.86it/s]\n"
          ]
        },
        {
          "output_type": "stream",
          "name": "stdout",
          "text": [
            "\n",
            "Epoch: 59, train loss: 0.40052238682905833, val loss: 0.38341071307659147\n"
          ]
        },
        {
          "output_type": "stream",
          "name": "stderr",
          "text": [
            "100%|██████████| 300/300 [00:30<00:00,  9.82it/s]\n"
          ]
        },
        {
          "output_type": "stream",
          "name": "stdout",
          "text": [
            "\n",
            "Epoch: 60, train loss: 0.4003861953318119, val loss: 0.374832321703434\n"
          ]
        },
        {
          "output_type": "stream",
          "name": "stderr",
          "text": [
            "100%|██████████| 300/300 [00:29<00:00, 10.34it/s]\n"
          ]
        },
        {
          "output_type": "stream",
          "name": "stdout",
          "text": [
            "\n",
            "Epoch: 61, train loss: 0.4170487080017726, val loss: 0.4313235193490982\n"
          ]
        },
        {
          "output_type": "stream",
          "name": "stderr",
          "text": [
            "100%|██████████| 300/300 [00:29<00:00, 10.07it/s]\n"
          ]
        },
        {
          "output_type": "stream",
          "name": "stdout",
          "text": [
            "\n",
            "Epoch: 62, train loss: 0.4028645284473896, val loss: 0.3482911467552185\n"
          ]
        },
        {
          "output_type": "stream",
          "name": "stderr",
          "text": [
            "100%|██████████| 300/300 [00:30<00:00,  9.91it/s]\n"
          ]
        },
        {
          "output_type": "stream",
          "name": "stdout",
          "text": [
            "\n",
            "Epoch: 63, train loss: 0.3991233176986376, val loss: 0.4159472197294235\n"
          ]
        },
        {
          "output_type": "stream",
          "name": "stderr",
          "text": [
            "100%|██████████| 300/300 [00:29<00:00, 10.09it/s]\n"
          ]
        },
        {
          "output_type": "stream",
          "name": "stdout",
          "text": [
            "\n",
            "Epoch: 64, train loss: 0.4047158800562223, val loss: 0.3976248264312744\n"
          ]
        },
        {
          "output_type": "stream",
          "name": "stderr",
          "text": [
            "100%|██████████| 300/300 [00:29<00:00, 10.01it/s]\n"
          ]
        },
        {
          "output_type": "stream",
          "name": "stdout",
          "text": [
            "\n",
            "Epoch: 65, train loss: 0.4005293095111847, val loss: 0.4051225930452347\n"
          ]
        },
        {
          "output_type": "stream",
          "name": "stderr",
          "text": [
            "100%|██████████| 300/300 [00:29<00:00, 10.02it/s]\n"
          ]
        },
        {
          "output_type": "stream",
          "name": "stdout",
          "text": [
            "\n",
            "Epoch: 66, train loss: 0.4033419268329938, val loss: 0.40823263227939605\n"
          ]
        },
        {
          "output_type": "stream",
          "name": "stderr",
          "text": [
            "100%|██████████| 300/300 [00:29<00:00, 10.05it/s]\n"
          ]
        },
        {
          "output_type": "stream",
          "name": "stdout",
          "text": [
            "\n",
            "Epoch: 67, train loss: 0.40371427237987517, val loss: 0.4121133595705032\n"
          ]
        },
        {
          "output_type": "stream",
          "name": "stderr",
          "text": [
            "100%|██████████| 300/300 [00:30<00:00, 10.00it/s]\n"
          ]
        },
        {
          "output_type": "stream",
          "name": "stdout",
          "text": [
            "\n",
            "Epoch: 68, train loss: 0.3974939323961735, val loss: 0.3670595228672028\n"
          ]
        },
        {
          "output_type": "stream",
          "name": "stderr",
          "text": [
            "100%|██████████| 300/300 [00:30<00:00,  9.96it/s]\n"
          ]
        },
        {
          "output_type": "stream",
          "name": "stdout",
          "text": [
            "\n",
            "Epoch: 69, train loss: 0.39766449431578316, val loss: 0.3740238189697266\n"
          ]
        },
        {
          "output_type": "stream",
          "name": "stderr",
          "text": [
            "100%|██████████| 300/300 [00:30<00:00,  9.85it/s]\n"
          ]
        },
        {
          "output_type": "stream",
          "name": "stdout",
          "text": [
            "\n",
            "Epoch: 70, train loss: 0.39375673164923986, val loss: 0.34737908840179443\n"
          ]
        },
        {
          "output_type": "stream",
          "name": "stderr",
          "text": [
            "100%|██████████| 300/300 [00:29<00:00, 10.19it/s]\n"
          ]
        },
        {
          "output_type": "stream",
          "name": "stdout",
          "text": [
            "\n",
            "Epoch: 71, train loss: 0.4035817684233189, val loss: 0.42011651694774627\n"
          ]
        },
        {
          "output_type": "stream",
          "name": "stderr",
          "text": [
            "100%|██████████| 300/300 [00:29<00:00, 10.21it/s]\n"
          ]
        },
        {
          "output_type": "stream",
          "name": "stdout",
          "text": [
            "\n",
            "Epoch: 72, train loss: 0.4029954751829306, val loss: 0.3816265881061554\n"
          ]
        },
        {
          "output_type": "stream",
          "name": "stderr",
          "text": [
            "100%|██████████| 300/300 [00:30<00:00,  9.82it/s]\n"
          ]
        },
        {
          "output_type": "stream",
          "name": "stdout",
          "text": [
            "\n",
            "Epoch: 73, train loss: 0.3953349330027898, val loss: 0.40622179955244064\n"
          ]
        },
        {
          "output_type": "stream",
          "name": "stderr",
          "text": [
            "100%|██████████| 300/300 [00:31<00:00,  9.54it/s]\n"
          ]
        },
        {
          "output_type": "stream",
          "name": "stdout",
          "text": [
            "\n",
            "Epoch: 74, train loss: 0.38531203965346017, val loss: 0.400860059261322\n"
          ]
        },
        {
          "output_type": "stream",
          "name": "stderr",
          "text": [
            "100%|██████████| 300/300 [00:30<00:00,  9.95it/s]\n"
          ]
        },
        {
          "output_type": "stream",
          "name": "stdout",
          "text": [
            "\n",
            "Epoch: 75, train loss: 0.39849490851163866, val loss: 0.4044066399335861\n"
          ]
        },
        {
          "output_type": "stream",
          "name": "stderr",
          "text": [
            "100%|██████████| 300/300 [00:30<00:00,  9.91it/s]\n"
          ]
        },
        {
          "output_type": "stream",
          "name": "stdout",
          "text": [
            "\n",
            "Epoch: 76, train loss: 0.39475120380520823, val loss: 0.358061720430851\n"
          ]
        },
        {
          "output_type": "stream",
          "name": "stderr",
          "text": [
            "100%|██████████| 300/300 [00:30<00:00,  9.92it/s]\n"
          ]
        },
        {
          "output_type": "stream",
          "name": "stdout",
          "text": [
            "\n",
            "Epoch: 77, train loss: 0.3955872783064842, val loss: 0.3692208379507065\n"
          ]
        },
        {
          "output_type": "stream",
          "name": "stderr",
          "text": [
            "100%|██████████| 300/300 [00:30<00:00,  9.90it/s]\n"
          ]
        },
        {
          "output_type": "stream",
          "name": "stdout",
          "text": [
            "\n",
            "Epoch: 78, train loss: 0.3904662746191025, val loss: 0.3365548476576805\n"
          ]
        },
        {
          "output_type": "stream",
          "name": "stderr",
          "text": [
            "100%|██████████| 300/300 [00:30<00:00,  9.97it/s]\n"
          ]
        },
        {
          "output_type": "stream",
          "name": "stdout",
          "text": [
            "\n",
            "Epoch: 79, train loss: 0.39295917222897214, val loss: 0.3850617051124573\n"
          ]
        },
        {
          "output_type": "stream",
          "name": "stderr",
          "text": [
            "100%|██████████| 300/300 [00:29<00:00, 10.06it/s]\n"
          ]
        },
        {
          "output_type": "stream",
          "name": "stdout",
          "text": [
            "\n",
            "Epoch: 80, train loss: 0.3952480100095272, val loss: 0.32600860446691515\n"
          ]
        },
        {
          "output_type": "stream",
          "name": "stderr",
          "text": [
            "100%|██████████| 300/300 [00:29<00:00, 10.08it/s]\n"
          ]
        },
        {
          "output_type": "stream",
          "name": "stdout",
          "text": [
            "\n",
            "Epoch: 81, train loss: 0.3954762382308642, val loss: 0.3740364134311676\n"
          ]
        },
        {
          "output_type": "stream",
          "name": "stderr",
          "text": [
            "100%|██████████| 300/300 [00:30<00:00,  9.86it/s]\n"
          ]
        },
        {
          "output_type": "stream",
          "name": "stdout",
          "text": [
            "\n",
            "Epoch: 82, train loss: 0.3893540334701538, val loss: 0.3499936580657959\n"
          ]
        },
        {
          "output_type": "stream",
          "name": "stderr",
          "text": [
            "100%|██████████| 300/300 [00:29<00:00, 10.13it/s]\n"
          ]
        },
        {
          "output_type": "stream",
          "name": "stdout",
          "text": [
            "\n",
            "Epoch: 83, train loss: 0.3946592153608799, val loss: 0.38464063555002215\n"
          ]
        },
        {
          "output_type": "stream",
          "name": "stderr",
          "text": [
            "100%|██████████| 300/300 [00:30<00:00,  9.99it/s]\n"
          ]
        },
        {
          "output_type": "stream",
          "name": "stdout",
          "text": [
            "\n",
            "Epoch: 84, train loss: 0.3877995668848356, val loss: 0.39029626846313475\n"
          ]
        },
        {
          "output_type": "stream",
          "name": "stderr",
          "text": [
            "100%|██████████| 300/300 [00:30<00:00,  9.92it/s]\n"
          ]
        },
        {
          "output_type": "stream",
          "name": "stdout",
          "text": [
            "\n",
            "Epoch: 85, train loss: 0.3886375891168912, val loss: 0.40262762904167176\n"
          ]
        },
        {
          "output_type": "stream",
          "name": "stderr",
          "text": [
            "100%|██████████| 300/300 [00:29<00:00, 10.25it/s]\n"
          ]
        },
        {
          "output_type": "stream",
          "name": "stdout",
          "text": [
            "\n",
            "Epoch: 86, train loss: 0.39790670946240425, val loss: 0.4352808028459549\n"
          ]
        },
        {
          "output_type": "stream",
          "name": "stderr",
          "text": [
            "100%|██████████| 300/300 [00:30<00:00,  9.96it/s]\n"
          ]
        },
        {
          "output_type": "stream",
          "name": "stdout",
          "text": [
            "\n",
            "Epoch: 87, train loss: 0.3873843248685201, val loss: 0.406050506234169\n"
          ]
        },
        {
          "output_type": "stream",
          "name": "stderr",
          "text": [
            "100%|██████████| 300/300 [00:31<00:00,  9.67it/s]\n"
          ]
        },
        {
          "output_type": "stream",
          "name": "stdout",
          "text": [
            "\n",
            "Epoch: 88, train loss: 0.3814287978410721, val loss: 0.41318253576755526\n"
          ]
        },
        {
          "output_type": "stream",
          "name": "stderr",
          "text": [
            "100%|██████████| 300/300 [00:30<00:00,  9.88it/s]\n"
          ]
        },
        {
          "output_type": "stream",
          "name": "stdout",
          "text": [
            "\n",
            "Epoch: 89, train loss: 0.3860439398388068, val loss: 0.3627637580037117\n"
          ]
        },
        {
          "output_type": "stream",
          "name": "stderr",
          "text": [
            "100%|██████████| 300/300 [00:30<00:00,  9.79it/s]\n"
          ]
        },
        {
          "output_type": "stream",
          "name": "stdout",
          "text": [
            "\n",
            "Epoch: 90, train loss: 0.3840315495928129, val loss: 0.41629883646965027\n"
          ]
        },
        {
          "output_type": "stream",
          "name": "stderr",
          "text": [
            "100%|██████████| 300/300 [00:30<00:00,  9.97it/s]\n"
          ]
        },
        {
          "output_type": "stream",
          "name": "stdout",
          "text": [
            "\n",
            "Epoch: 91, train loss: 0.3873521236081918, val loss: 0.37756663262844087\n"
          ]
        },
        {
          "output_type": "stream",
          "name": "stderr",
          "text": [
            "100%|██████████| 300/300 [00:29<00:00, 10.17it/s]\n"
          ]
        },
        {
          "output_type": "stream",
          "name": "stdout",
          "text": [
            "\n",
            "Epoch: 92, train loss: 0.39329642698168754, val loss: 0.3447810232639313\n"
          ]
        },
        {
          "output_type": "stream",
          "name": "stderr",
          "text": [
            "100%|██████████| 300/300 [00:30<00:00,  9.79it/s]\n"
          ]
        },
        {
          "output_type": "stream",
          "name": "stdout",
          "text": [
            "\n",
            "Epoch: 93, train loss: 0.3814268764356772, val loss: 0.40429332554340364\n"
          ]
        },
        {
          "output_type": "stream",
          "name": "stderr",
          "text": [
            "100%|██████████| 300/300 [00:29<00:00, 10.02it/s]\n"
          ]
        },
        {
          "output_type": "stream",
          "name": "stdout",
          "text": [
            "\n",
            "Epoch: 94, train loss: 0.38739441658059753, val loss: 0.3547498881816864\n"
          ]
        },
        {
          "output_type": "stream",
          "name": "stderr",
          "text": [
            "100%|██████████| 300/300 [00:31<00:00,  9.59it/s]\n"
          ]
        },
        {
          "output_type": "stream",
          "name": "stdout",
          "text": [
            "\n",
            "Epoch: 95, train loss: 0.37988540341456734, val loss: 0.39416315853595735\n"
          ]
        },
        {
          "output_type": "stream",
          "name": "stderr",
          "text": [
            "100%|██████████| 300/300 [00:30<00:00,  9.81it/s]\n"
          ]
        },
        {
          "output_type": "stream",
          "name": "stdout",
          "text": [
            "\n",
            "Epoch: 96, train loss: 0.38244112675388653, val loss: 0.3899823933839798\n"
          ]
        },
        {
          "output_type": "stream",
          "name": "stderr",
          "text": [
            "100%|██████████| 300/300 [00:29<00:00, 10.12it/s]\n"
          ]
        },
        {
          "output_type": "stream",
          "name": "stdout",
          "text": [
            "\n",
            "Epoch: 97, train loss: 0.39588688959678014, val loss: 0.3918746054172516\n"
          ]
        },
        {
          "output_type": "stream",
          "name": "stderr",
          "text": [
            "100%|██████████| 300/300 [00:30<00:00,  9.90it/s]\n"
          ]
        },
        {
          "output_type": "stream",
          "name": "stdout",
          "text": [
            "\n",
            "Epoch: 98, train loss: 0.38414774000644686, val loss: 0.40721520483493806\n"
          ]
        },
        {
          "output_type": "stream",
          "name": "stderr",
          "text": [
            "100%|██████████| 300/300 [00:30<00:00,  9.90it/s]\n"
          ]
        },
        {
          "output_type": "stream",
          "name": "stdout",
          "text": [
            "\n",
            "Epoch: 99, train loss: 0.3852065353095531, val loss: 0.38083629608154296\n"
          ]
        },
        {
          "output_type": "stream",
          "name": "stderr",
          "text": [
            "100%|██████████| 300/300 [00:31<00:00,  9.65it/s]\n"
          ]
        },
        {
          "output_type": "stream",
          "name": "stdout",
          "text": [
            "\n",
            "Epoch: 100, train loss: 0.37805138235290847, val loss: 0.3006088986992836\n"
          ]
        },
        {
          "output_type": "stream",
          "name": "stderr",
          "text": [
            "100%|██████████| 300/300 [00:29<00:00, 10.16it/s]\n"
          ]
        },
        {
          "output_type": "stream",
          "name": "stdout",
          "text": [
            "\n",
            "Epoch: 101, train loss: 0.3882981276015441, val loss: 0.3662466615438461\n"
          ]
        },
        {
          "output_type": "stream",
          "name": "stderr",
          "text": [
            "100%|██████████| 300/300 [00:30<00:00,  9.74it/s]\n"
          ]
        },
        {
          "output_type": "stream",
          "name": "stdout",
          "text": [
            "\n",
            "Epoch: 102, train loss: 0.3795594237744808, val loss: 0.4077449649572372\n"
          ]
        },
        {
          "output_type": "stream",
          "name": "stderr",
          "text": [
            "100%|██████████| 300/300 [00:30<00:00,  9.95it/s]\n"
          ]
        },
        {
          "output_type": "stream",
          "name": "stdout",
          "text": [
            "\n",
            "Epoch: 103, train loss: 0.3842415177325408, val loss: 0.37867447435855867\n"
          ]
        },
        {
          "output_type": "stream",
          "name": "stderr",
          "text": [
            "100%|██████████| 300/300 [00:30<00:00,  9.95it/s]\n"
          ]
        },
        {
          "output_type": "stream",
          "name": "stdout",
          "text": [
            "\n",
            "Epoch: 104, train loss: 0.382007964849472, val loss: 0.3805465668439865\n"
          ]
        },
        {
          "output_type": "stream",
          "name": "stderr",
          "text": [
            "100%|██████████| 300/300 [00:30<00:00,  9.90it/s]\n"
          ]
        },
        {
          "output_type": "stream",
          "name": "stdout",
          "text": [
            "\n",
            "Epoch: 105, train loss: 0.38197316000858944, val loss: 0.3546963334083557\n"
          ]
        },
        {
          "output_type": "stream",
          "name": "stderr",
          "text": [
            "100%|██████████| 300/300 [00:30<00:00,  9.76it/s]\n"
          ]
        },
        {
          "output_type": "stream",
          "name": "stdout",
          "text": [
            "\n",
            "Epoch: 106, train loss: 0.3777884183327357, val loss: 0.3554217144846916\n"
          ]
        },
        {
          "output_type": "stream",
          "name": "stderr",
          "text": [
            "100%|██████████| 300/300 [00:30<00:00,  9.79it/s]\n"
          ]
        },
        {
          "output_type": "stream",
          "name": "stdout",
          "text": [
            "\n",
            "Epoch: 107, train loss: 0.3789207291106383, val loss: 0.37502129673957824\n"
          ]
        },
        {
          "output_type": "stream",
          "name": "stderr",
          "text": [
            "100%|██████████| 300/300 [00:30<00:00,  9.88it/s]\n"
          ]
        },
        {
          "output_type": "stream",
          "name": "stdout",
          "text": [
            "\n",
            "Epoch: 108, train loss: 0.3798468809823195, val loss: 0.389851388335228\n"
          ]
        },
        {
          "output_type": "stream",
          "name": "stderr",
          "text": [
            "100%|██████████| 300/300 [00:30<00:00,  9.77it/s]\n"
          ]
        },
        {
          "output_type": "stream",
          "name": "stdout",
          "text": [
            "\n",
            "Epoch: 109, train loss: 0.37574022725224493, val loss: 0.41987191140651703\n"
          ]
        },
        {
          "output_type": "stream",
          "name": "stderr",
          "text": [
            "100%|██████████| 300/300 [00:30<00:00,  9.98it/s]\n"
          ]
        },
        {
          "output_type": "stream",
          "name": "stdout",
          "text": [
            "\n",
            "Epoch: 110, train loss: 0.3825664980709553, val loss: 0.3922272354364395\n"
          ]
        },
        {
          "output_type": "stream",
          "name": "stderr",
          "text": [
            "100%|██████████| 300/300 [00:30<00:00,  9.78it/s]\n"
          ]
        },
        {
          "output_type": "stream",
          "name": "stdout",
          "text": [
            "\n",
            "Epoch: 111, train loss: 0.3795805724461873, val loss: 0.38590321093797686\n"
          ]
        },
        {
          "output_type": "stream",
          "name": "stderr",
          "text": [
            "100%|██████████| 300/300 [00:30<00:00,  9.85it/s]\n"
          ]
        },
        {
          "output_type": "stream",
          "name": "stdout",
          "text": [
            "\n",
            "Epoch: 112, train loss: 0.3767449938754241, val loss: 0.3512097030878067\n"
          ]
        },
        {
          "output_type": "stream",
          "name": "stderr",
          "text": [
            "100%|██████████| 300/300 [00:29<00:00, 10.11it/s]\n"
          ]
        },
        {
          "output_type": "stream",
          "name": "stdout",
          "text": [
            "\n",
            "Epoch: 113, train loss: 0.3844003963470459, val loss: 0.4126692622900009\n"
          ]
        },
        {
          "output_type": "stream",
          "name": "stderr",
          "text": [
            "100%|██████████| 300/300 [00:30<00:00,  9.91it/s]\n"
          ]
        },
        {
          "output_type": "stream",
          "name": "stdout",
          "text": [
            "\n",
            "Epoch: 114, train loss: 0.3791632678111394, val loss: 0.36232799738645555\n"
          ]
        },
        {
          "output_type": "stream",
          "name": "stderr",
          "text": [
            "100%|██████████| 300/300 [00:30<00:00,  9.87it/s]\n"
          ]
        },
        {
          "output_type": "stream",
          "name": "stdout",
          "text": [
            "\n",
            "Epoch: 115, train loss: 0.37783809373776117, val loss: 0.35162046253681184\n"
          ]
        },
        {
          "output_type": "stream",
          "name": "stderr",
          "text": [
            "100%|██████████| 300/300 [00:30<00:00,  9.88it/s]\n"
          ]
        },
        {
          "output_type": "stream",
          "name": "stdout",
          "text": [
            "\n",
            "Epoch: 116, train loss: 0.37852164179086684, val loss: 0.398680554330349\n"
          ]
        },
        {
          "output_type": "stream",
          "name": "stderr",
          "text": [
            "100%|██████████| 300/300 [00:29<00:00, 10.02it/s]\n"
          ]
        },
        {
          "output_type": "stream",
          "name": "stdout",
          "text": [
            "\n",
            "Epoch: 117, train loss: 0.3827860932548841, val loss: 0.3502949446439743\n"
          ]
        },
        {
          "output_type": "stream",
          "name": "stderr",
          "text": [
            "100%|██████████| 300/300 [00:30<00:00,  9.95it/s]\n"
          ]
        },
        {
          "output_type": "stream",
          "name": "stdout",
          "text": [
            "\n",
            "Epoch: 118, train loss: 0.3803305357694626, val loss: 0.39209417402744295\n"
          ]
        },
        {
          "output_type": "stream",
          "name": "stderr",
          "text": [
            "100%|██████████| 300/300 [00:30<00:00,  9.95it/s]\n"
          ]
        },
        {
          "output_type": "stream",
          "name": "stdout",
          "text": [
            "\n",
            "Epoch: 119, train loss: 0.37937030668059984, val loss: 0.387527334690094\n"
          ]
        },
        {
          "output_type": "stream",
          "name": "stderr",
          "text": [
            "100%|██████████| 300/300 [00:30<00:00,  9.81it/s]\n"
          ]
        },
        {
          "output_type": "stream",
          "name": "stdout",
          "text": [
            "\n",
            "Epoch: 120, train loss: 0.37416203409433363, val loss: 0.36517115831375124\n"
          ]
        },
        {
          "output_type": "stream",
          "name": "stderr",
          "text": [
            "100%|██████████| 300/300 [00:29<00:00, 10.28it/s]\n"
          ]
        },
        {
          "output_type": "stream",
          "name": "stdout",
          "text": [
            "\n",
            "Epoch: 121, train loss: 0.3879977611700694, val loss: 0.3613723814487457\n"
          ]
        },
        {
          "output_type": "stream",
          "name": "stderr",
          "text": [
            "100%|██████████| 300/300 [00:30<00:00,  9.86it/s]\n"
          ]
        },
        {
          "output_type": "stream",
          "name": "stdout",
          "text": [
            "\n",
            "Epoch: 122, train loss: 0.3769279925028483, val loss: 0.413291671872139\n"
          ]
        },
        {
          "output_type": "stream",
          "name": "stderr",
          "text": [
            "100%|██████████| 300/300 [00:30<00:00,  9.82it/s]\n"
          ]
        },
        {
          "output_type": "stream",
          "name": "stdout",
          "text": [
            "\n",
            "Epoch: 123, train loss: 0.37575220232208567, val loss: 0.3699500173330307\n"
          ]
        },
        {
          "output_type": "stream",
          "name": "stderr",
          "text": [
            "100%|██████████| 300/300 [00:30<00:00,  9.90it/s]\n"
          ]
        },
        {
          "output_type": "stream",
          "name": "stdout",
          "text": [
            "\n",
            "Epoch: 124, train loss: 0.3759723021586736, val loss: 0.37433581054210663\n"
          ]
        },
        {
          "output_type": "stream",
          "name": "stderr",
          "text": [
            "100%|██████████| 300/300 [00:29<00:00, 10.11it/s]\n"
          ]
        },
        {
          "output_type": "stream",
          "name": "stdout",
          "text": [
            "\n",
            "Epoch: 125, train loss: 0.3799633553624153, val loss: 0.3671049803495407\n"
          ]
        },
        {
          "output_type": "stream",
          "name": "stderr",
          "text": [
            "100%|██████████| 300/300 [00:29<00:00, 10.12it/s]\n"
          ]
        },
        {
          "output_type": "stream",
          "name": "stdout",
          "text": [
            "\n",
            "Epoch: 126, train loss: 0.3812098302443822, val loss: 0.41287596225738527\n"
          ]
        },
        {
          "output_type": "stream",
          "name": "stderr",
          "text": [
            "100%|██████████| 300/300 [00:30<00:00,  9.94it/s]\n"
          ]
        },
        {
          "output_type": "stream",
          "name": "stdout",
          "text": [
            "\n",
            "Epoch: 127, train loss: 0.37744871507088346, val loss: 0.37020440995693205\n"
          ]
        },
        {
          "output_type": "stream",
          "name": "stderr",
          "text": [
            "100%|██████████| 300/300 [00:30<00:00,  9.90it/s]\n"
          ]
        },
        {
          "output_type": "stream",
          "name": "stdout",
          "text": [
            "\n",
            "Epoch: 128, train loss: 0.37313756664594017, val loss: 0.3614488482475281\n"
          ]
        },
        {
          "output_type": "stream",
          "name": "stderr",
          "text": [
            "100%|██████████| 300/300 [00:30<00:00,  9.85it/s]\n"
          ]
        },
        {
          "output_type": "stream",
          "name": "stdout",
          "text": [
            "\n",
            "Epoch: 129, train loss: 0.374428082605203, val loss: 0.37934652268886565\n"
          ]
        },
        {
          "output_type": "stream",
          "name": "stderr",
          "text": [
            "100%|██████████| 300/300 [00:30<00:00,  9.95it/s]\n"
          ]
        },
        {
          "output_type": "stream",
          "name": "stdout",
          "text": [
            "\n",
            "Epoch: 130, train loss: 0.3767480736970901, val loss: 0.3959401875734329\n"
          ]
        },
        {
          "output_type": "stream",
          "name": "stderr",
          "text": [
            "100%|██████████| 300/300 [00:30<00:00,  9.99it/s]\n"
          ]
        },
        {
          "output_type": "stream",
          "name": "stdout",
          "text": [
            "\n",
            "Epoch: 131, train loss: 0.37626761173208556, val loss: 0.34884963035583494\n"
          ]
        },
        {
          "output_type": "stream",
          "name": "stderr",
          "text": [
            "100%|██████████| 300/300 [00:30<00:00,  9.82it/s]\n"
          ]
        },
        {
          "output_type": "stream",
          "name": "stdout",
          "text": [
            "\n",
            "Epoch: 132, train loss: 0.3728133185704549, val loss: 0.398993581533432\n"
          ]
        },
        {
          "output_type": "stream",
          "name": "stderr",
          "text": [
            "100%|██████████| 300/300 [00:29<00:00, 10.18it/s]\n"
          ]
        },
        {
          "output_type": "stream",
          "name": "stdout",
          "text": [
            "\n",
            "Epoch: 133, train loss: 0.3827346635858218, val loss: 0.3561739981174469\n"
          ]
        },
        {
          "output_type": "stream",
          "name": "stderr",
          "text": [
            "100%|██████████| 300/300 [00:29<00:00, 10.13it/s]\n"
          ]
        },
        {
          "output_type": "stream",
          "name": "stdout",
          "text": [
            "\n",
            "Epoch: 134, train loss: 0.38013757651050883, val loss: 0.39301466941833496\n"
          ]
        },
        {
          "output_type": "stream",
          "name": "stderr",
          "text": [
            "100%|██████████| 300/300 [00:29<00:00, 10.10it/s]\n"
          ]
        },
        {
          "output_type": "stream",
          "name": "stdout",
          "text": [
            "\n",
            "Epoch: 135, train loss: 0.37718032280604047, val loss: 0.3696290925145149\n"
          ]
        },
        {
          "output_type": "stream",
          "name": "stderr",
          "text": [
            "100%|██████████| 300/300 [00:30<00:00,  9.86it/s]\n"
          ]
        },
        {
          "output_type": "stream",
          "name": "stdout",
          "text": [
            "\n",
            "Epoch: 136, train loss: 0.372235922763745, val loss: 0.4128560245037079\n"
          ]
        },
        {
          "output_type": "stream",
          "name": "stderr",
          "text": [
            "100%|██████████| 300/300 [00:28<00:00, 10.35it/s]\n"
          ]
        },
        {
          "output_type": "stream",
          "name": "stdout",
          "text": [
            "\n",
            "Epoch: 137, train loss: 0.38772631660103796, val loss: 0.4115801006555557\n"
          ]
        },
        {
          "output_type": "stream",
          "name": "stderr",
          "text": [
            "100%|██████████| 300/300 [00:29<00:00, 10.02it/s]\n"
          ]
        },
        {
          "output_type": "stream",
          "name": "stdout",
          "text": [
            "\n",
            "Epoch: 138, train loss: 0.3799470103283723, val loss: 0.3435350403189659\n"
          ]
        },
        {
          "output_type": "stream",
          "name": "stderr",
          "text": [
            "100%|██████████| 300/300 [00:30<00:00,  9.91it/s]\n"
          ]
        },
        {
          "output_type": "stream",
          "name": "stdout",
          "text": [
            "\n",
            "Epoch: 139, train loss: 0.3750857042769591, val loss: 0.3556218326091766\n"
          ]
        },
        {
          "output_type": "stream",
          "name": "stderr",
          "text": [
            "100%|██████████| 300/300 [00:30<00:00,  9.84it/s]\n"
          ]
        },
        {
          "output_type": "stream",
          "name": "stdout",
          "text": [
            "\n",
            "Epoch: 140, train loss: 0.3718516459067663, val loss: 0.3846766024827957\n"
          ]
        },
        {
          "output_type": "stream",
          "name": "stderr",
          "text": [
            "100%|██████████| 300/300 [00:30<00:00,  9.79it/s]\n"
          ]
        },
        {
          "output_type": "stream",
          "name": "stdout",
          "text": [
            "\n",
            "Epoch: 141, train loss: 0.36794055794676145, val loss: 0.3933043360710144\n"
          ]
        },
        {
          "output_type": "stream",
          "name": "stderr",
          "text": [
            "100%|██████████| 300/300 [00:29<00:00, 10.15it/s]\n"
          ]
        },
        {
          "output_type": "stream",
          "name": "stdout",
          "text": [
            "\n",
            "Epoch: 142, train loss: 0.3804135743280252, val loss: 0.3407602563500404\n"
          ]
        },
        {
          "output_type": "stream",
          "name": "stderr",
          "text": [
            "100%|██████████| 300/300 [00:30<00:00,  9.98it/s]\n"
          ]
        },
        {
          "output_type": "stream",
          "name": "stdout",
          "text": [
            "\n",
            "Epoch: 143, train loss: 0.37305730938911436, val loss: 0.3560785263776779\n"
          ]
        },
        {
          "output_type": "stream",
          "name": "stderr",
          "text": [
            "100%|██████████| 300/300 [00:30<00:00,  9.83it/s]\n"
          ]
        },
        {
          "output_type": "stream",
          "name": "stdout",
          "text": [
            "\n",
            "Epoch: 144, train loss: 0.3700185522933801, val loss: 0.37793363630771637\n"
          ]
        },
        {
          "output_type": "stream",
          "name": "stderr",
          "text": [
            "100%|██████████| 300/300 [00:30<00:00,  9.75it/s]\n"
          ]
        },
        {
          "output_type": "stream",
          "name": "stdout",
          "text": [
            "\n",
            "Epoch: 145, train loss: 0.3675628866751989, val loss: 0.33027779012918473\n"
          ]
        },
        {
          "output_type": "stream",
          "name": "stderr",
          "text": [
            "100%|██████████| 300/300 [00:30<00:00,  9.92it/s]\n"
          ]
        },
        {
          "output_type": "stream",
          "name": "stdout",
          "text": [
            "\n",
            "Epoch: 146, train loss: 0.37110278869668645, val loss: 0.3237299367785454\n"
          ]
        },
        {
          "output_type": "stream",
          "name": "stderr",
          "text": [
            "100%|██████████| 300/300 [00:29<00:00, 10.10it/s]\n"
          ]
        },
        {
          "output_type": "stream",
          "name": "stdout",
          "text": [
            "\n",
            "Epoch: 147, train loss: 0.3797695489724477, val loss: 0.3740693017840385\n"
          ]
        },
        {
          "output_type": "stream",
          "name": "stderr",
          "text": [
            "100%|██████████| 300/300 [00:29<00:00, 10.01it/s]\n"
          ]
        },
        {
          "output_type": "stream",
          "name": "stdout",
          "text": [
            "\n",
            "Epoch: 148, train loss: 0.3765238278110822, val loss: 0.4002204418182373\n"
          ]
        },
        {
          "output_type": "stream",
          "name": "stderr",
          "text": [
            "100%|██████████| 300/300 [00:30<00:00,  9.96it/s]\n"
          ]
        },
        {
          "output_type": "stream",
          "name": "stdout",
          "text": [
            "\n",
            "Epoch: 149, train loss: 0.373220453162988, val loss: 0.3576198935508728\n"
          ]
        },
        {
          "output_type": "stream",
          "name": "stderr",
          "text": [
            "100%|██████████| 300/300 [00:30<00:00,  9.83it/s]\n"
          ]
        },
        {
          "output_type": "stream",
          "name": "stdout",
          "text": [
            "\n",
            "Epoch: 150, train loss: 0.3705601936082045, val loss: 0.3586966395378113\n"
          ]
        },
        {
          "output_type": "stream",
          "name": "stderr",
          "text": [
            "100%|██████████| 300/300 [00:30<00:00,  9.97it/s]\n"
          ]
        },
        {
          "output_type": "stream",
          "name": "stdout",
          "text": [
            "\n",
            "Epoch: 151, train loss: 0.3744095864892006, val loss: 0.37983670830726624\n"
          ]
        },
        {
          "output_type": "stream",
          "name": "stderr",
          "text": [
            "100%|██████████| 300/300 [00:30<00:00,  9.87it/s]\n"
          ]
        },
        {
          "output_type": "stream",
          "name": "stdout",
          "text": [
            "\n",
            "Epoch: 152, train loss: 0.3698682413995266, val loss: 0.3514577358961105\n"
          ]
        },
        {
          "output_type": "stream",
          "name": "stderr",
          "text": [
            "100%|██████████| 300/300 [00:29<00:00, 10.11it/s]\n"
          ]
        },
        {
          "output_type": "stream",
          "name": "stdout",
          "text": [
            "\n",
            "Epoch: 153, train loss: 0.37890597388148306, val loss: 0.3838779866695404\n"
          ]
        },
        {
          "output_type": "stream",
          "name": "stderr",
          "text": [
            "100%|██████████| 300/300 [00:30<00:00,  9.97it/s]\n"
          ]
        },
        {
          "output_type": "stream",
          "name": "stdout",
          "text": [
            "\n",
            "Epoch: 154, train loss: 0.3735747168958187, val loss: 0.38165411353111267\n"
          ]
        },
        {
          "output_type": "stream",
          "name": "stderr",
          "text": [
            "100%|██████████| 300/300 [00:30<00:00,  9.94it/s]\n"
          ]
        },
        {
          "output_type": "stream",
          "name": "stdout",
          "text": [
            "\n",
            "Epoch: 155, train loss: 0.3711326644321283, val loss: 0.3874238669872284\n"
          ]
        },
        {
          "output_type": "stream",
          "name": "stderr",
          "text": [
            "100%|██████████| 300/300 [00:29<00:00, 10.21it/s]\n"
          ]
        },
        {
          "output_type": "stream",
          "name": "stdout",
          "text": [
            "\n",
            "Epoch: 156, train loss: 0.3781729297836622, val loss: 0.40035269856452943\n"
          ]
        },
        {
          "output_type": "stream",
          "name": "stderr",
          "text": [
            "100%|██████████| 300/300 [00:29<00:00, 10.18it/s]\n"
          ]
        },
        {
          "output_type": "stream",
          "name": "stdout",
          "text": [
            "\n",
            "Epoch: 157, train loss: 0.3773478033145269, val loss: 0.41415442526340485\n"
          ]
        },
        {
          "output_type": "stream",
          "name": "stderr",
          "text": [
            "100%|██████████| 300/300 [00:31<00:00,  9.67it/s]\n"
          ]
        },
        {
          "output_type": "stream",
          "name": "stdout",
          "text": [
            "\n",
            "Epoch: 158, train loss: 0.360964891910553, val loss: 0.38214592188596724\n"
          ]
        },
        {
          "output_type": "stream",
          "name": "stderr",
          "text": [
            "100%|██████████| 300/300 [00:31<00:00,  9.66it/s]\n"
          ]
        },
        {
          "output_type": "stream",
          "name": "stdout",
          "text": [
            "\n",
            "Epoch: 159, train loss: 0.3650822277367115, val loss: 0.37139941453933717\n"
          ]
        },
        {
          "output_type": "stream",
          "name": "stderr",
          "text": [
            "100%|██████████| 300/300 [00:30<00:00, 10.00it/s]\n"
          ]
        },
        {
          "output_type": "stream",
          "name": "stdout",
          "text": [
            "\n",
            "Epoch: 160, train loss: 0.376436756302913, val loss: 0.3754998356103897\n"
          ]
        },
        {
          "output_type": "stream",
          "name": "stderr",
          "text": [
            "100%|██████████| 300/300 [00:29<00:00, 10.03it/s]\n"
          ]
        },
        {
          "output_type": "stream",
          "name": "stdout",
          "text": [
            "\n",
            "Epoch: 161, train loss: 0.37045473858714106, val loss: 0.349268427491188\n"
          ]
        },
        {
          "output_type": "stream",
          "name": "stderr",
          "text": [
            "100%|██████████| 300/300 [00:30<00:00,  9.97it/s]\n"
          ]
        },
        {
          "output_type": "stream",
          "name": "stdout",
          "text": [
            "\n",
            "Epoch: 162, train loss: 0.37151133954524995, val loss: 0.389798703789711\n"
          ]
        },
        {
          "output_type": "stream",
          "name": "stderr",
          "text": [
            "100%|██████████| 300/300 [00:29<00:00, 10.07it/s]\n"
          ]
        },
        {
          "output_type": "stream",
          "name": "stdout",
          "text": [
            "\n",
            "Epoch: 163, train loss: 0.37542020320892333, val loss: 0.3624261498451233\n"
          ]
        },
        {
          "output_type": "stream",
          "name": "stderr",
          "text": [
            "100%|██████████| 300/300 [00:30<00:00,  9.94it/s]\n"
          ]
        },
        {
          "output_type": "stream",
          "name": "stdout",
          "text": [
            "\n",
            "Epoch: 164, train loss: 0.36990277230739593, val loss: 0.39801481664180755\n"
          ]
        },
        {
          "output_type": "stream",
          "name": "stderr",
          "text": [
            "100%|██████████| 300/300 [00:29<00:00, 10.09it/s]\n"
          ]
        },
        {
          "output_type": "stream",
          "name": "stdout",
          "text": [
            "\n",
            "Epoch: 165, train loss: 0.3739955378572146, val loss: 0.37482265532016756\n"
          ]
        },
        {
          "output_type": "stream",
          "name": "stderr",
          "text": [
            "100%|██████████| 300/300 [00:30<00:00,  9.95it/s]\n"
          ]
        },
        {
          "output_type": "stream",
          "name": "stdout",
          "text": [
            "\n",
            "Epoch: 166, train loss: 0.3692830247183641, val loss: 0.3527799636125565\n"
          ]
        },
        {
          "output_type": "stream",
          "name": "stderr",
          "text": [
            "100%|██████████| 300/300 [00:30<00:00,  9.76it/s]\n"
          ]
        },
        {
          "output_type": "stream",
          "name": "stdout",
          "text": [
            "\n",
            "Epoch: 167, train loss: 0.36686655700206755, val loss: 0.35468986332416536\n"
          ]
        },
        {
          "output_type": "stream",
          "name": "stderr",
          "text": [
            "100%|██████████| 300/300 [00:29<00:00, 10.11it/s]\n"
          ]
        },
        {
          "output_type": "stream",
          "name": "stdout",
          "text": [
            "\n",
            "Epoch: 168, train loss: 0.3760998043914636, val loss: 0.3911417633295059\n"
          ]
        },
        {
          "output_type": "stream",
          "name": "stderr",
          "text": [
            "100%|██████████| 300/300 [00:29<00:00, 10.09it/s]\n"
          ]
        },
        {
          "output_type": "stream",
          "name": "stdout",
          "text": [
            "\n",
            "Epoch: 169, train loss: 0.3778409857551257, val loss: 0.36893231570720675\n"
          ]
        },
        {
          "output_type": "stream",
          "name": "stderr",
          "text": [
            "100%|██████████| 300/300 [00:30<00:00,  9.89it/s]\n"
          ]
        },
        {
          "output_type": "stream",
          "name": "stdout",
          "text": [
            "\n",
            "Epoch: 170, train loss: 0.36456919615467387, val loss: 0.3368619233369827\n"
          ]
        },
        {
          "output_type": "stream",
          "name": "stderr",
          "text": [
            "100%|██████████| 300/300 [00:29<00:00, 10.05it/s]\n"
          ]
        },
        {
          "output_type": "stream",
          "name": "stdout",
          "text": [
            "\n",
            "Epoch: 171, train loss: 0.37257843106985095, val loss: 0.39469534158706665\n"
          ]
        },
        {
          "output_type": "stream",
          "name": "stderr",
          "text": [
            "100%|██████████| 300/300 [00:30<00:00,  9.99it/s]\n"
          ]
        },
        {
          "output_type": "stream",
          "name": "stdout",
          "text": [
            "\n",
            "Epoch: 172, train loss: 0.37349914441506066, val loss: 0.40161304771900175\n"
          ]
        },
        {
          "output_type": "stream",
          "name": "stderr",
          "text": [
            "100%|██████████| 300/300 [00:30<00:00,  9.81it/s]\n"
          ]
        },
        {
          "output_type": "stream",
          "name": "stdout",
          "text": [
            "\n",
            "Epoch: 173, train loss: 0.3655788450439771, val loss: 0.36770289242267606\n"
          ]
        },
        {
          "output_type": "stream",
          "name": "stderr",
          "text": [
            "100%|██████████| 300/300 [00:29<00:00, 10.03it/s]\n"
          ]
        },
        {
          "output_type": "stream",
          "name": "stdout",
          "text": [
            "\n",
            "Epoch: 174, train loss: 0.3713258753716946, val loss: 0.36498032212257386\n"
          ]
        },
        {
          "output_type": "stream",
          "name": "stderr",
          "text": [
            "100%|██████████| 300/300 [00:29<00:00, 10.21it/s]\n"
          ]
        },
        {
          "output_type": "stream",
          "name": "stdout",
          "text": [
            "\n",
            "Epoch: 175, train loss: 0.37637389987707137, val loss: 0.37875084280967714\n"
          ]
        },
        {
          "output_type": "stream",
          "name": "stderr",
          "text": [
            "100%|██████████| 300/300 [00:30<00:00,  9.98it/s]\n"
          ]
        },
        {
          "output_type": "stream",
          "name": "stdout",
          "text": [
            "\n",
            "Epoch: 176, train loss: 0.37001054604848227, val loss: 0.4441642463207245\n"
          ]
        },
        {
          "output_type": "stream",
          "name": "stderr",
          "text": [
            "100%|██████████| 300/300 [00:31<00:00,  9.66it/s]\n"
          ]
        },
        {
          "output_type": "stream",
          "name": "stdout",
          "text": [
            "\n",
            "Epoch: 177, train loss: 0.3603431143363317, val loss: 0.3679280489683151\n"
          ]
        },
        {
          "output_type": "stream",
          "name": "stderr",
          "text": [
            "100%|██████████| 300/300 [00:30<00:00,  9.89it/s]\n"
          ]
        },
        {
          "output_type": "stream",
          "name": "stdout",
          "text": [
            "\n",
            "Epoch: 178, train loss: 0.36816685914993286, val loss: 0.3589191555976868\n"
          ]
        },
        {
          "output_type": "stream",
          "name": "stderr",
          "text": [
            "100%|██████████| 300/300 [00:30<00:00,  9.99it/s]\n"
          ]
        },
        {
          "output_type": "stream",
          "name": "stdout",
          "text": [
            "\n",
            "Epoch: 179, train loss: 0.37233116646607717, val loss: 0.35945630073547363\n"
          ]
        },
        {
          "output_type": "stream",
          "name": "stderr",
          "text": [
            "100%|██████████| 300/300 [00:29<00:00, 10.12it/s]\n"
          ]
        },
        {
          "output_type": "stream",
          "name": "stdout",
          "text": [
            "\n",
            "Epoch: 180, train loss: 0.373893538514773, val loss: 0.40666206181049347\n"
          ]
        },
        {
          "output_type": "stream",
          "name": "stderr",
          "text": [
            "100%|██████████| 300/300 [00:29<00:00, 10.25it/s]\n"
          ]
        },
        {
          "output_type": "stream",
          "name": "stdout",
          "text": [
            "\n",
            "Epoch: 181, train loss: 0.37919296339154246, val loss: 0.41194492280483247\n"
          ]
        },
        {
          "output_type": "stream",
          "name": "stderr",
          "text": [
            "100%|██████████| 300/300 [00:30<00:00,  9.95it/s]\n"
          ]
        },
        {
          "output_type": "stream",
          "name": "stdout",
          "text": [
            "\n",
            "Epoch: 182, train loss: 0.36798721631368003, val loss: 0.3581553190946579\n"
          ]
        },
        {
          "output_type": "stream",
          "name": "stderr",
          "text": [
            "100%|██████████| 300/300 [00:29<00:00, 10.06it/s]\n"
          ]
        },
        {
          "output_type": "stream",
          "name": "stdout",
          "text": [
            "\n",
            "Epoch: 183, train loss: 0.37190923526883124, val loss: 0.3477024108171463\n"
          ]
        },
        {
          "output_type": "stream",
          "name": "stderr",
          "text": [
            "100%|██████████| 300/300 [00:29<00:00, 10.01it/s]\n"
          ]
        },
        {
          "output_type": "stream",
          "name": "stdout",
          "text": [
            "\n",
            "Epoch: 184, train loss: 0.3685133876899878, val loss: 0.3602525621652603\n"
          ]
        },
        {
          "output_type": "stream",
          "name": "stderr",
          "text": [
            "100%|██████████| 300/300 [00:29<00:00, 10.01it/s]\n"
          ]
        },
        {
          "output_type": "stream",
          "name": "stdout",
          "text": [
            "\n",
            "Epoch: 185, train loss: 0.37053714965780576, val loss: 0.41612365543842317\n"
          ]
        },
        {
          "output_type": "stream",
          "name": "stderr",
          "text": [
            "100%|██████████| 300/300 [00:29<00:00, 10.01it/s]\n"
          ]
        },
        {
          "output_type": "stream",
          "name": "stdout",
          "text": [
            "\n",
            "Epoch: 186, train loss: 0.36961390972137453, val loss: 0.36401887238025665\n"
          ]
        },
        {
          "output_type": "stream",
          "name": "stderr",
          "text": [
            "100%|██████████| 300/300 [00:29<00:00, 10.09it/s]\n"
          ]
        },
        {
          "output_type": "stream",
          "name": "stdout",
          "text": [
            "\n",
            "Epoch: 187, train loss: 0.3722540555397669, val loss: 0.3791051894426346\n"
          ]
        },
        {
          "output_type": "stream",
          "name": "stderr",
          "text": [
            "100%|██████████| 300/300 [00:30<00:00,  9.73it/s]\n"
          ]
        },
        {
          "output_type": "stream",
          "name": "stdout",
          "text": [
            "\n",
            "Epoch: 188, train loss: 0.3624765756726265, val loss: 0.35672990083694456\n"
          ]
        },
        {
          "output_type": "stream",
          "name": "stderr",
          "text": [
            "100%|██████████| 300/300 [00:30<00:00,  9.73it/s]\n"
          ]
        },
        {
          "output_type": "stream",
          "name": "stdout",
          "text": [
            "\n",
            "Epoch: 189, train loss: 0.3617238087952137, val loss: 0.35402107536792754\n"
          ]
        },
        {
          "output_type": "stream",
          "name": "stderr",
          "text": [
            "100%|██████████| 300/300 [00:30<00:00,  9.89it/s]\n"
          ]
        },
        {
          "output_type": "stream",
          "name": "stdout",
          "text": [
            "\n",
            "Epoch: 190, train loss: 0.36473326245943705, val loss: 0.36850764602422714\n"
          ]
        },
        {
          "output_type": "stream",
          "name": "stderr",
          "text": [
            "100%|██████████| 300/300 [00:30<00:00,  9.94it/s]\n"
          ]
        },
        {
          "output_type": "stream",
          "name": "stdout",
          "text": [
            "\n",
            "Epoch: 191, train loss: 0.36429423665006955, val loss: 0.39506266117095945\n"
          ]
        },
        {
          "output_type": "stream",
          "name": "stderr",
          "text": [
            "100%|██████████| 300/300 [00:29<00:00, 10.02it/s]\n"
          ]
        },
        {
          "output_type": "stream",
          "name": "stdout",
          "text": [
            "\n",
            "Epoch: 192, train loss: 0.3672594804565112, val loss: 0.35805927217006683\n"
          ]
        },
        {
          "output_type": "stream",
          "name": "stderr",
          "text": [
            "100%|██████████| 300/300 [00:29<00:00, 10.17it/s]\n"
          ]
        },
        {
          "output_type": "stream",
          "name": "stdout",
          "text": [
            "\n",
            "Epoch: 193, train loss: 0.37374286423126857, val loss: 0.3862571716308594\n"
          ]
        },
        {
          "output_type": "stream",
          "name": "stderr",
          "text": [
            "100%|██████████| 300/300 [00:29<00:00, 10.08it/s]\n"
          ]
        },
        {
          "output_type": "stream",
          "name": "stdout",
          "text": [
            "\n",
            "Epoch: 194, train loss: 0.36819708908597626, val loss: 0.37332547307014463\n"
          ]
        },
        {
          "output_type": "stream",
          "name": "stderr",
          "text": [
            "100%|██████████| 300/300 [00:29<00:00, 10.17it/s]\n"
          ]
        },
        {
          "output_type": "stream",
          "name": "stdout",
          "text": [
            "\n",
            "Epoch: 195, train loss: 0.3715069902439912, val loss: 0.34868636131286623\n"
          ]
        },
        {
          "output_type": "stream",
          "name": "stderr",
          "text": [
            "100%|██████████| 300/300 [00:30<00:00,  9.88it/s]\n"
          ]
        },
        {
          "output_type": "stream",
          "name": "stdout",
          "text": [
            "\n",
            "Epoch: 196, train loss: 0.36682710578044253, val loss: 0.3628829330205917\n"
          ]
        },
        {
          "output_type": "stream",
          "name": "stderr",
          "text": [
            "100%|██████████| 300/300 [00:30<00:00,  9.99it/s]\n"
          ]
        },
        {
          "output_type": "stream",
          "name": "stdout",
          "text": [
            "\n",
            "Epoch: 197, train loss: 0.3671202095846335, val loss: 0.41836997866630554\n"
          ]
        },
        {
          "output_type": "stream",
          "name": "stderr",
          "text": [
            "100%|██████████| 300/300 [00:29<00:00, 10.12it/s]\n"
          ]
        },
        {
          "output_type": "stream",
          "name": "stdout",
          "text": [
            "\n",
            "Epoch: 198, train loss: 0.37274823024868964, val loss: 0.39757572412490844\n"
          ]
        },
        {
          "output_type": "stream",
          "name": "stderr",
          "text": [
            "100%|██████████| 300/300 [00:29<00:00, 10.13it/s]\n"
          ]
        },
        {
          "output_type": "stream",
          "name": "stdout",
          "text": [
            "\n",
            "Epoch: 199, train loss: 0.3705509645740191, val loss: 0.3432744562625885\n"
          ]
        },
        {
          "output_type": "stream",
          "name": "stderr",
          "text": [
            "100%|██████████| 300/300 [00:29<00:00, 10.30it/s]\n"
          ]
        },
        {
          "output_type": "stream",
          "name": "stdout",
          "text": [
            "\n",
            "Epoch: 200, train loss: 0.3746765071650346, val loss: 0.36513452231884\n"
          ]
        }
      ],
      "source": [
        "from tqdm import tqdm\n",
        "\n",
        "for epoch in range(n_epochs):\n",
        "    network.train()\n",
        "    train_loss = 0\n",
        "    for _ in tqdm(range(n_batches_per_epoch)):\n",
        "        \n",
        "        img_batch, captions_batch = generate_batch(train_img_codes, train_captions, batch_size)\n",
        "        loss_t = compute_loss(network, img_batch, captions_batch)\n",
        "      \n",
        "        loss_t.backward()\n",
        "        optimizer.step()\n",
        "        optimizer.zero_grad()\n",
        "        \n",
        "        train_loss += loss_t.cpu().data.numpy()[0]\n",
        "        \n",
        "    train_loss /= n_batches_per_epoch\n",
        "    \n",
        "    val_loss = 0\n",
        "    network.eval()\n",
        "    with torch.no_grad():\n",
        "      for _ in range(n_validation_batches):\n",
        "          loss_t = compute_loss(network, *generate_batch(val_img_codes, val_captions, batch_size))\n",
        "          val_loss += loss_t.cpu().data.numpy()[0]\n",
        "      val_loss /= n_validation_batches\n",
        "      print('\\nEpoch: {}, train loss: {}, val loss: {}'.format(epoch + 1, train_loss, val_loss))"
      ]
    },
    {
      "cell_type": "code",
      "source": [
        "torch.save(network.state_dict(), './network')"
      ],
      "metadata": {
        "id": "t0wzsDVcElLN"
      },
      "execution_count": 21,
      "outputs": []
    },
    {
      "cell_type": "code",
      "source": [
        "!nvidia-smi"
      ],
      "metadata": {
        "colab": {
          "base_uri": "https://localhost:8080/"
        },
        "id": "3wcPhIT09OoW",
        "outputId": "ba0f39ff-6cd7-405a-eef3-59e7dfe17612"
      },
      "execution_count": 22,
      "outputs": [
        {
          "output_type": "stream",
          "name": "stdout",
          "text": [
            "Sun Feb 13 09:12:48 2022       \n",
            "+-----------------------------------------------------------------------------+\n",
            "| NVIDIA-SMI 460.32.03    Driver Version: 460.32.03    CUDA Version: 11.2     |\n",
            "|-------------------------------+----------------------+----------------------+\n",
            "| GPU  Name        Persistence-M| Bus-Id        Disp.A | Volatile Uncorr. ECC |\n",
            "| Fan  Temp  Perf  Pwr:Usage/Cap|         Memory-Usage | GPU-Util  Compute M. |\n",
            "|                               |                      |               MIG M. |\n",
            "|===============================+======================+======================|\n",
            "|   0  Tesla T4            Off  | 00000000:00:04.0 Off |                    0 |\n",
            "| N/A   46C    P0    26W /  70W |   7142MiB / 15109MiB |      0%      Default |\n",
            "|                               |                      |                  N/A |\n",
            "+-------------------------------+----------------------+----------------------+\n",
            "                                                                               \n",
            "+-----------------------------------------------------------------------------+\n",
            "| Processes:                                                                  |\n",
            "|  GPU   GI   CI        PID   Type   Process name                  GPU Memory |\n",
            "|        ID   ID                                                   Usage      |\n",
            "|=============================================================================|\n",
            "+-----------------------------------------------------------------------------+\n"
          ]
        }
      ]
    },
    {
      "cell_type": "markdown",
      "metadata": {
        "id": "PFS9lSYntmPA"
      },
      "source": [
        "## Inseption и получение результатов\n"
      ]
    },
    {
      "cell_type": "code",
      "execution_count": 23,
      "metadata": {
        "colab": {
          "base_uri": "https://localhost:8080/",
          "height": 121,
          "referenced_widgets": [
            "1623c01f9a444e6e99869cc04a79c9fa",
            "a298b39998b344e3bb2f5f88ea1ab4cf",
            "65affa4a89c6461694cebd66afa6b27d",
            "f61c3d9a8a2341a68e8f7d34885e871d",
            "cc10d2658dd64181aab9f5d3285d6133",
            "c0b90fd899d34356a14229d842b8e0bf",
            "f8f78e5ead464be79d408b26d69d7b69",
            "225c6329fca34c188258484900e39e0a",
            "d940b5e5ff064ae78d1bb9fc72d11500",
            "5e39dcf10f5b41b3af4a2b6172e1cb4d",
            "23d186e8fc424cbf9bbdb62423810936"
          ]
        },
        "id": "T3BZ7nEstmPB",
        "outputId": "09a5feed-a93f-4b96-af8a-50b84784ef02"
      },
      "outputs": [
        {
          "output_type": "stream",
          "name": "stderr",
          "text": [
            "/usr/local/lib/python3.7/dist-packages/torchvision/models/inception.py:83: FutureWarning: The default weight initialization of inception_v3 will be changed in future releases of torchvision. If you wish to keep the old behavior (which leads to long initialization times due to scipy/scipy#11299), please set init_weights=True.\n",
            "  ' due to scipy/scipy#11299), please set init_weights=True.', FutureWarning)\n",
            "Downloading: \"https://download.pytorch.org/models/inception_v3_google-1a9a5a14.pth\" to /root/.cache/torch/hub/checkpoints/inception_v3_google-1a9a5a14.pth\n"
          ]
        },
        {
          "output_type": "display_data",
          "data": {
            "application/vnd.jupyter.widget-view+json": {
              "model_id": "1623c01f9a444e6e99869cc04a79c9fa",
              "version_minor": 0,
              "version_major": 2
            },
            "text/plain": [
              "  0%|          | 0.00/104M [00:00<?, ?B/s]"
            ]
          },
          "metadata": {}
        }
      ],
      "source": [
        "# загружаем inseption, чтобы можно было прогонять через него новые картинки, \n",
        "# получать их эмбеддинги и генерировать описания с помощью нашей сети\n",
        "from beheaded_inception3 import beheaded_inception_v3\n",
        "inception = beheaded_inception_v3().train(False)"
      ]
    },
    {
      "cell_type": "markdown",
      "metadata": {
        "id": "knCv0zLctmPC"
      },
      "source": [
        "### Сгенерируем описание"
      ]
    },
    {
      "cell_type": "code",
      "execution_count": 24,
      "metadata": {
        "id": "ExrG8fn3tmPC"
      },
      "outputs": [],
      "source": [
        "def generate_caption(image, caption_prefix=(START,), \n",
        "                     t=4, sample=True, max_len=100):\n",
        "    assert isinstance(image, np.ndarray) and np.max(image) <= 1\\\n",
        "           and np.min(image) >=0 and image.shape[-1] == 3\n",
        "    \n",
        "    with torch.no_grad():\n",
        "        image = torch.tensor(image.transpose([2, 0, 1]), dtype=torch.float32)\n",
        "\n",
        "        vectors_8x8, vectors_neck, logits = inception(image[None])\n",
        "        caption_prefix = list(caption_prefix)\n",
        "\n",
        "        # слово за словом генерируем описание картинки\n",
        "        for _ in range(max_len):\n",
        "            # 1. представляем caption_prefix в виде матрицы\n",
        "            caption_prefix_matrix = as_matrix([caption_prefix])\n",
        "            caption_prefix_matrix = torch.tensor(caption_prefix_matrix, dtype=torch.int64)\n",
        "            # 2. Получить из RNN-ки логиты, передав ей vectors_neck и матрицу из п.1\n",
        "            logits = network(vectors_neck.to(device), caption_prefix_matrix.to(device))[0, -1]\n",
        "            # 3. Перевести логиты RNN-ки в вероятности (например, с помощью F.softmax)\n",
        "            probs = F.softmax(logits, dim=-1).cpu().numpy()\n",
        "            # 4. сэмплировать следующее слово в описании, используя полученные вероятности. Можно сэмплировать жадно \n",
        "            # (тупо слово с самой большой вероятностью), можно сэмплировать из распределения\n",
        "            probs = probs**t/np.sum(probs**t)\n",
        "\n",
        "            if sample:\n",
        "              word = np.random.choice(vocab, p=probs) \n",
        "            else:\n",
        "              word = vocab[np.argmax(probs)]\n",
        "\n",
        "            # 5. Добавляем новое слово в caption_prefix\n",
        "            caption_prefix.append(word)\n",
        "            # 6. Если RNN-ка сгенерила символ конца предложения, останавливаемся\n",
        "            if caption_prefix == END:\n",
        "              break\n",
        "            \n",
        "    return caption_prefix"
      ]
    },
    {
      "cell_type": "markdown",
      "metadata": {
        "id": "U09ROGRbtmPD"
      },
      "source": [
        "### Скачаем пару картинок, чтобы проверить качество:"
      ]
    },
    {
      "cell_type": "code",
      "execution_count": 25,
      "metadata": {
        "colab": {
          "base_uri": "https://localhost:8080/"
        },
        "id": "UHF3uRtotmPD",
        "outputId": "82e7c22a-73c7-4719-b3f4-8d38a9c8a716"
      },
      "outputs": [
        {
          "output_type": "stream",
          "name": "stdout",
          "text": [
            "--2022-02-13 09:13:06--  https://pixel.nymag.com/imgs/daily/selectall/2018/02/12/12-tony-hawk.w710.h473.jpg\n",
            "Resolving pixel.nymag.com (pixel.nymag.com)... 199.232.192.70, 199.232.196.70\n",
            "Connecting to pixel.nymag.com (pixel.nymag.com)|199.232.192.70|:443... connected.\n",
            "HTTP request sent, awaiting response... 301 Moved Permanently\n",
            "Location: https://pyxis.nymag.com/v1/imgs/6ac/2a6/b48d3a180f333298f5bee60ff80f4ba886-12-tony-hawk.h473.w710.jpg [following]\n",
            "--2022-02-13 09:13:06--  https://pyxis.nymag.com/v1/imgs/6ac/2a6/b48d3a180f333298f5bee60ff80f4ba886-12-tony-hawk.h473.w710.jpg\n",
            "Resolving pyxis.nymag.com (pyxis.nymag.com)... 151.101.2.217, 151.101.66.217, 151.101.130.217, ...\n",
            "Connecting to pyxis.nymag.com (pyxis.nymag.com)|151.101.2.217|:443... connected.\n",
            "HTTP request sent, awaiting response... 200 OK\n",
            "Length: 54731 (53K) [image/jpeg]\n",
            "Saving to: ‘img.jpg’\n",
            "\n",
            "\rimg.jpg               0%[                    ]       0  --.-KB/s               \rimg.jpg             100%[===================>]  53.45K  --.-KB/s    in 0.002s  \n",
            "\n",
            "2022-02-13 09:13:06 (29.7 MB/s) - ‘img.jpg’ saved [54731/54731]\n",
            "\n"
          ]
        }
      ],
      "source": [
        "from matplotlib import pyplot as plt\n",
        "# from scipy.misc import imresize\n",
        "import cv2\n",
        "%matplotlib inline\n",
        "\n",
        "#sample image\n",
        "!wget https://pixel.nymag.com/imgs/daily/selectall/2018/02/12/12-tony-hawk.w710.h473.jpg -O img.jpg\n",
        "img = plt.imread('img.jpg')\n",
        "img = cv2.resize(img, (299, 299)).astype('float32') / 255."
      ]
    },
    {
      "cell_type": "code",
      "execution_count": 26,
      "metadata": {
        "colab": {
          "base_uri": "https://localhost:8080/",
          "height": 286
        },
        "id": "Ok9JVbZatmPG",
        "outputId": "5f8a4336-b4e8-4f73-ecd3-9a4b590434c0"
      },
      "outputs": [
        {
          "output_type": "execute_result",
          "data": {
            "text/plain": [
              "<matplotlib.image.AxesImage at 0x7faf47b94b90>"
            ]
          },
          "metadata": {},
          "execution_count": 26
        },
        {
          "output_type": "display_data",
          "data": {
            "image/png": "[encoded data removed]",
            "text/plain": [
              "<Figure size 432x288 with 1 Axes>"
            ]
          },
          "metadata": {
            "needs_background": "light"
          }
        }
      ],
      "source": [
        "plt.imshow(img)"
      ]
    },
    {
      "cell_type": "code",
      "execution_count": 27,
      "metadata": {
        "colab": {
          "base_uri": "https://localhost:8080/"
        },
        "id": "RZlGtMjVtmPI",
        "outputId": "d1f6f23e-b74b-44ff-8a40-7fd57016777d"
      },
      "outputs": [
        {
          "output_type": "stream",
          "name": "stdout",
          "text": [
            "a r g e <UNK> w o m a n <UNK> i s <UNK> s t a n d i n g <UNK> o n <UNK> a <UNK> s k a t e b o a r d <UNK> o n <UNK> a <UNK> s k a t e b o a r d <UNK> . . . <UNK> <UNK> o v e r <UNK> . <UNK> \" <UNK> . <UNK> \" <UNK> w i n d o w <UNK> . . <UNK> <UNK> r a i l <UNK> . . <UNK> r i d e r <UNK> .\n",
            "a r g e <UNK> w o m a n <UNK> w i t h <UNK> a <UNK> b l u e <UNK> s k a t e b o a r d <UNK> i n <UNK> t h e <UNK> a i r <UNK> . <UNK> \" <UNK> . <UNK> \" <UNK> w i n d o w <UNK> . . <UNK> <UNK> u r b a n <UNK> s t r e e t <UNK> . <UNK> \" <UNK> . <UNK> \" <UNK> w i n d o w <UNK> . . <UNK> <UNK> r a i\n",
            "a r g e <UNK> b o y <UNK> i s <UNK> s k a t e b o a r d i n g <UNK> d o w n <UNK> a <UNK> s n o w <UNK> c o v e r e d <UNK> s l o p e <UNK> . . <UNK> <UNK> r a i l <UNK> . . <UNK> r e s i d e n t <UNK> . . . <UNK> \" <UNK> . <UNK> \" <UNK> . <UNK> \" <UNK> w h i t e <UNK> t i l e <UNK> .\n",
            "a r g e <UNK> w o m a n <UNK> i s <UNK> s t a n d i n g <UNK> o n <UNK> a <UNK> s k a t e b o a r d <UNK> o n <UNK> a <UNK> s k a t e b o a r d <UNK> . . . <UNK> <UNK> o v e r <UNK> . <UNK> \" <UNK> . <UNK> \" <UNK> . <UNK> \" <UNK> w i t h <UNK> a <UNK> b u s <UNK> . <UNK> \" <UNK> o n <UNK> t h e <UNK>\n",
            "a r g e <UNK> w o m a n <UNK> i s <UNK> s t a n d i n g <UNK> o n <UNK> a <UNK> s k a t e b o a r d <UNK> i n <UNK> t h e <UNK> a i r <UNK> . . <UNK> <UNK> r a i l <UNK> . . <UNK> r e s t <UNK> . <UNK> \" <UNK> . <UNK> \" <UNK> w i n d o w <UNK> . . <UNK> <UNK> r a i l <UNK> . . . <UNK> <UNK> o v e\n",
            "a r g e <UNK> w o m a n <UNK> i n <UNK> a <UNK> s u i t <UNK> a n d <UNK> t i e <UNK> s t a n d i n g <UNK> n e x t <UNK> t o <UNK> a <UNK> b u i l d i n g <UNK> . . <UNK> r e s t <UNK> . <UNK> \" <UNK> . <UNK> \" <UNK> w i n d o w <UNK> . . <UNK> <UNK> r a i l <UNK> . . . <UNK> <UNK> u p <UNK> . <UNK>\n",
            "a r g e <UNK> w o m a n <UNK> i s <UNK> s t a n d i n g <UNK> o n <UNK> a <UNK> s k a t e b o a r d <UNK> o n <UNK> t h e <UNK> s i d e w a l k <UNK> . . . <UNK> <UNK> o v e r <UNK> . <UNK> \" <UNK> . <UNK> s t a n d <UNK> . . . <UNK> <UNK> o v e r <UNK> . <UNK> \" <UNK> . <UNK> \" <UNK> . <UNK> \" <UNK>\n",
            "a r g e <UNK> w o m a n <UNK> i s <UNK> s t a n d i n g <UNK> o n <UNK> a <UNK> s k a t e b o a r d <UNK> o n <UNK> a <UNK> s k a t e b o a r d <UNK> . . <UNK> <UNK> r a i l <UNK> . . . <UNK> <UNK> u p <UNK> . <UNK> \" <UNK> . <UNK> \" <UNK> . <UNK> \" <UNK> w i t h <UNK> a <UNK> b u i l d i n g\n",
            "a r g e <UNK> w o m a n <UNK> i s <UNK> s t a n d i n g <UNK> o n <UNK> a <UNK> s k a t e b o a r d <UNK> o n <UNK> a <UNK> s k a t e b o a r d <UNK> . . . <UNK> <UNK> o v e r <UNK> . <UNK> \" <UNK> . <UNK> \" <UNK> w i t h <UNK> a <UNK> b u i l d i n g <UNK> . . <UNK> r e s t s <UNK> .\n",
            "a r g e <UNK> w o m a n <UNK> i s <UNK> s t a n d i n g <UNK> o n <UNK> a <UNK> s k a t e b o a r d <UNK> i n <UNK> t h e <UNK> b a c k g r o u n d <UNK> . . . <UNK> <UNK> o v e r <UNK> . <UNK> . <UNK> s t r e e t <UNK> . . . <UNK> <UNK> o v e r <UNK> . <UNK> \" <UNK> . <UNK> o f <UNK> p e\n"
          ]
        }
      ],
      "source": [
        "for i in range(10):\n",
        "    print(' '.join(generate_caption(img, t=5., sample=True)[1:-1]))"
      ]
    },
    {
      "cell_type": "code",
      "execution_count": 28,
      "metadata": {
        "colab": {
          "base_uri": "https://localhost:8080/",
          "height": 723
        },
        "id": "Hu3SPI60tmPM",
        "outputId": "e5cc0434-898c-4fcf-d79d-3f9c35fb663b"
      },
      "outputs": [
        {
          "output_type": "stream",
          "name": "stdout",
          "text": [
            "--2022-02-13 09:13:27--  http://ccanimalclinic.com/wp-content/uploads/2017/07/Cat-and-dog-1.jpg\n",
            "Resolving ccanimalclinic.com (ccanimalclinic.com)... 162.159.135.42\n",
            "Connecting to ccanimalclinic.com (ccanimalclinic.com)|162.159.135.42|:80... connected.\n",
            "HTTP request sent, awaiting response... 301 Moved Permanently\n",
            "Location: https://ccanimalclinic.com/wp-content/uploads/2017/07/Cat-and-dog-1.jpg [following]\n",
            "--2022-02-13 09:13:27--  https://ccanimalclinic.com/wp-content/uploads/2017/07/Cat-and-dog-1.jpg\n",
            "Connecting to ccanimalclinic.com (ccanimalclinic.com)|162.159.135.42|:443... connected.\n",
            "HTTP request sent, awaiting response... 200 OK\n",
            "Length: 106870 (104K) [image/jpeg]\n",
            "Saving to: ‘img1.jpg’\n",
            "\n",
            "img1.jpg            100%[===================>] 104.37K   525KB/s    in 0.2s    \n",
            "\n",
            "2022-02-13 09:13:28 (525 KB/s) - ‘img1.jpg’ saved [106870/106870]\n",
            "\n"
          ]
        },
        {
          "output_type": "display_data",
          "data": {
            "image/png": "[encoded data removed]",
            "text/plain": [
              "<Figure size 432x288 with 1 Axes>"
            ]
          },
          "metadata": {
            "needs_background": "light"
          }
        },
        {
          "output_type": "stream",
          "name": "stdout",
          "text": [
            "o m a n <UNK> w i t h <UNK> a <UNK> b l a c k <UNK> c a t <UNK> s i t t i n g <UNK> o n <UNK> t h e <UNK> g r o u n d <UNK> . . <UNK> <UNK> u p <UNK> . . <UNK> <UNK> u p <UNK> . . <UNK> r e s t <UNK> . <UNK> . <UNK> . <UNK> s e a t <UNK> . . <UNK> r e s t <UNK> . <UNK> a <UNK> p i c t u r e <UNK> . .\n",
            "o m a n <UNK> w i t h <UNK> a <UNK> b a t h r o o m <UNK> w i t h <UNK> a <UNK> b e d <UNK> w i t h <UNK> a <UNK> c o m p u t e r <UNK> m o n i t o r <UNK> . <UNK> a <UNK> p i c t u r e <UNK> . <UNK> t h e <UNK> c a m e r a <UNK> . . <UNK> r e s t <UNK> . <UNK> t h e <UNK> c a k e\n",
            "o m <UNK> c u t t i n g <UNK> a <UNK> b a b y <UNK> l a y i n g <UNK> o n <UNK> a <UNK> b e d <UNK> . . <UNK> <UNK> u p <UNK> . . <UNK> r e s t <UNK> . . . <UNK> <UNK> o m e <UNK> b o t t l e s <UNK> . . . <UNK> <UNK> u p <UNK> . <UNK> t y p e <UNK> . . <UNK> r e s t <UNK> . <UNK> a <UNK> p i c t u r\n",
            "o m a n <UNK> w i t h <UNK> a <UNK> b a s e b a l l <UNK> g l o v e <UNK> a n d <UNK> a <UNK> b l a c k <UNK> b e d <UNK> . . <UNK> <UNK> u p <UNK> . . <UNK> r e s t <UNK> . <UNK> . <UNK> p i <UNK> <UNK> a <UNK> . <UNK> a <UNK> p i c t u r e <UNK> . . <UNK> <UNK> u p <UNK> . . <UNK> <UNK> r a n g e <UNK> . .\n",
            "<UNK> c o u p l e <UNK> o f <UNK> b r o w n <UNK> c h a i r s <UNK> a n d <UNK> a <UNK> b a b y <UNK> i n <UNK> a <UNK> b l a c k <UNK> s h i r t <UNK> . . . <UNK> <UNK> u p <UNK> . <UNK> t y p e <UNK> . . <UNK> r e s t <UNK> . <UNK> . <UNK> t y p e <UNK> o f <UNK> p e o p l e <UNK> . . <UNK> <UNK> u\n",
            "o m a n <UNK> w i t h <UNK> a <UNK> b a t h r o o m <UNK> w i t h <UNK> a <UNK> b e d <UNK> w i t h <UNK> a <UNK> c h a i r <UNK> . <UNK> a <UNK> p h o t o <UNK> . <UNK> t h e <UNK> b a t h r o o m <UNK> . <UNK> \" <UNK> . <UNK> c h a i r <UNK> . <UNK> t h e <UNK> c a n d l e s <UNK> . <UNK> t\n",
            "<UNK> c o u p l e <UNK> o f <UNK> b i r d s <UNK> s t a n d i n g <UNK> i n <UNK> a <UNK> g r a s s y <UNK> f i e l d <UNK> . . <UNK> <UNK> u p <UNK> . . . <UNK> <UNK> o v e r <UNK> . <UNK> . <UNK> t y p e <UNK> . . <UNK> r e s t <UNK> . . . <UNK> <UNK> o m e <UNK> b o t t l e s <UNK> . . . <UNK>\n",
            "o m a n <UNK> w i t h <UNK> a <UNK> b l a c k <UNK> c a t <UNK> l a y i n g <UNK> o n <UNK> a <UNK> c o u c h <UNK> . <UNK> t h e <UNK> c a m e r a <UNK> . <UNK> t h e <UNK> b a t h r o o m <UNK> . . . <UNK> <UNK> o v e r <UNK> . <UNK> . <UNK> t y p e <UNK> . . <UNK> r e s t <UNK> . <UNK> t h\n",
            "o m a n <UNK> w i t h <UNK> a <UNK> b l a c k <UNK> c a t <UNK> s i t t i n g <UNK> o n <UNK> a <UNK> c o u c h <UNK> . <UNK> t h e <UNK> c a t <UNK> . <UNK> a <UNK> p i c t u r e <UNK> . . <UNK> r e s t <UNK> . <UNK> t h e <UNK> c a m e r a <UNK> . . <UNK> r e s t <UNK> . <UNK> t h e <UNK> c\n",
            "a r g e <UNK> b u i l d i n g <UNK> w i t h <UNK> a <UNK> b l a c k <UNK> c a t <UNK> s i t t i n g <UNK> o n <UNK> a <UNK> c o u c h <UNK> . <UNK> t h e <UNK> c a k e <UNK> . . <UNK> <UNK> u p <UNK> . . . <UNK> s o m e t h i n g <UNK> . <UNK> a <UNK> t a b l e <UNK> . . <UNK> r e s t\n"
          ]
        }
      ],
      "source": [
        "!wget http://ccanimalclinic.com/wp-content/uploads/2017/07/Cat-and-dog-1.jpg -O img1.jpg\n",
        "img = plt.imread('img1.jpg')\n",
        "img = cv2.resize(img, (299, 299)).astype('float32') / 255.\n",
        "\n",
        "plt.imshow(img)\n",
        "plt.show()\n",
        "\n",
        "for i in range(10):\n",
        "    print(' '.join(generate_caption(img, t=5.)[1:-1]))"
      ]
    },
    {
      "cell_type": "markdown",
      "metadata": {
        "id": "YboPVL7jtmPN"
      },
      "source": [
        "# Demo\n",
        "\n",
        "ВОТ ЩАС БУИТ СМИШНО\n",
        "\n",
        "Теперь ищите свои картинки, применяйте к ним сетку, смотрите че получится, реализовывайте вариативную часть =)"
      ]
    },
    {
      "cell_type": "code",
      "execution_count": 29,
      "metadata": {
        "colab": {
          "base_uri": "https://localhost:8080/",
          "height": 654
        },
        "id": "Q7xK72Y0tmPO",
        "outputId": "352dcf9c-fe1d-4c36-dce0-e1f277a1f6c5"
      },
      "outputs": [
        {
          "output_type": "stream",
          "name": "stdout",
          "text": [
            "--2022-02-13 09:13:39--  https://www.tensorflow.org/tutorials/text/image_captioning_files/output_9Psd1quzaAWg_2.png\n",
            "Resolving www.tensorflow.org (www.tensorflow.org)... 142.250.31.100, 142.250.31.102, 142.250.31.138, ...\n",
            "Connecting to www.tensorflow.org (www.tensorflow.org)|142.250.31.100|:443... connected.\n",
            "HTTP request sent, awaiting response... 200 OK\n",
            "Length: 462356 (452K) [image/png]\n",
            "Saving to: ‘img2.jpg’\n",
            "\n",
            "\rimg2.jpg              0%[                    ]       0  --.-KB/s               \rimg2.jpg            100%[===================>] 451.52K  --.-KB/s    in 0.1s    \n",
            "\n",
            "2022-02-13 09:13:39 (3.55 MB/s) - ‘img2.jpg’ saved [462356/462356]\n",
            "\n"
          ]
        },
        {
          "output_type": "display_data",
          "data": {
            "image/png": "[encoded data removed]",
            "text/plain": [
              "<Figure size 432x288 with 1 Axes>"
            ]
          },
          "metadata": {
            "needs_background": "light"
          }
        },
        {
          "output_type": "stream",
          "name": "stdout",
          "text": [
            "<UNK> p e r s o n <UNK> s t a n d i n g <UNK> n e x t <UNK> t o <UNK> a <UNK> b l u e <UNK> b e d <UNK> . <UNK> t h e <UNK> b a l l o o n <UNK> . <UNK> t h e <UNK> b u i l d i n g <UNK> . . <UNK> r e s t <UNK> . <UNK> a <UNK> p i c t u r e <UNK> . . <UNK> r e s t <UNK> . <UNK> . <UNK> t y\n",
            "<UNK> p e o p l e <UNK> a r e <UNK> s t a n d i n g <UNK> n e x t <UNK> t o <UNK> a <UNK> b u i l d i n g <UNK> . . <UNK> r e s t <UNK> . <UNK> a <UNK> p i c t u r e <UNK> . . <UNK> <UNK> u r i n a l <UNK> . . . <UNK> <UNK> u p <UNK> . <UNK> . <UNK> . <UNK> s e a t <UNK> . <UNK> . <UNK> . <UNK> s t a\n",
            "<UNK> p e r s o n <UNK> s t a n d i n g <UNK> i n <UNK> a <UNK> b e d <UNK> w i t h <UNK> a <UNK> c a t <UNK> l a y i n g <UNK> o n <UNK> a <UNK> c o u c h <UNK> . . <UNK> <UNK> u p <UNK> . . <UNK> r e s t <UNK> . <UNK> a <UNK> p i c t u r e <UNK> . . <UNK> <UNK> u r i n a l <UNK> . . . <UNK> <UNK> u\n",
            "<UNK> p e r s o n <UNK> s t a n d i n g <UNK> i n <UNK> f r o n t <UNK> o f <UNK> a <UNK> b u i l d i n g <UNK> w i t h <UNK> a <UNK> b l a c k <UNK> c a t <UNK> . <UNK> a <UNK> p i c t u r e <UNK> . . <UNK> r e s t <UNK> . <UNK> . <UNK> t y p e <UNK> . . <UNK> r e s t <UNK> . <UNK> t h e\n",
            "<UNK> p e o p l e <UNK> a r e <UNK> s t a n d i n g <UNK> o n <UNK> t h e <UNK> b e d <UNK> w i t h <UNK> a <UNK> b l a c k <UNK> c a t <UNK> . <UNK> t h e <UNK> b a l l o o n <UNK> . <UNK> \" <UNK> . <UNK> o p e n <UNK> . <UNK> \" <UNK> . <UNK> \" <UNK> w i n d o w <UNK> . . <UNK> <UNK> r a i l <UNK> .\n",
            "<UNK> m a n <UNK> i n <UNK> a <UNK> w h i t e <UNK> s h i r t <UNK> a n d <UNK> t i e <UNK> s t a n d i n g <UNK> o n <UNK> a <UNK> c e l l <UNK> p h o n e <UNK> . . <UNK> r e s t <UNK> . <UNK> . <UNK> a <UNK> p h o t o <UNK> . . <UNK> <UNK> . <UNK> a <UNK> p i c t u r e <UNK> . . <UNK> r e s t <UNK>\n",
            "<UNK> p e o p l e <UNK> a r e <UNK> s t a n d i n g <UNK> i n <UNK> a <UNK> c h a i r <UNK> w i t h <UNK> a <UNK> b a s e b a l l <UNK> g a m e <UNK> . . . <UNK> <UNK> o v e r <UNK> . <UNK> . <UNK> t y p e <UNK> o f <UNK> a <UNK> w o m a n <UNK> . . <UNK> <UNK> u p <UNK> . . <UNK> r e s t <UNK> .\n",
            "<UNK> p e r s o n <UNK> i s <UNK> s t a n d i n g <UNK> o n <UNK> t h e <UNK> b e d <UNK> w i t h <UNK> a <UNK> b l a c k <UNK> s u i t <UNK> . <UNK> \" <UNK> . <UNK> o f <UNK> t h e <UNK> c a m e r a <UNK> . . <UNK> <UNK> r a i n <UNK> . . . <UNK> <UNK> u p <UNK> . <UNK> t h e <UNK> s t o r e <UNK> .\n",
            "<UNK> p e r s o n <UNK> i s <UNK> s i t t i n g <UNK> o n <UNK> a <UNK> b e d <UNK> w i t h <UNK> a <UNK> b l a c k <UNK> c a t <UNK> . <UNK> t h e <UNK> c a m e r a <UNK> . . <UNK> <UNK> r a i n <UNK> . . . . <UNK> r e m o t e <UNK> . . . <UNK> <UNK> u p <UNK> . <UNK> t y p e <UNK> . . <UNK> r e\n",
            "<UNK> p e o p l e <UNK> a r e <UNK> s t a n d i n g <UNK> i n <UNK> a <UNK> b e d <UNK> w i t h <UNK> a <UNK> s t u f f e d <UNK> b e a r <UNK> . . <UNK> <UNK> r a n d e r <UNK> . . <UNK> <UNK> r a i n <UNK> . . . . <UNK> r e s t <UNK> . <UNK> t h e <UNK> b a t h r o o m <UNK> . . . <UNK>\n"
          ]
        }
      ],
      "source": [
        "# apply your network on images you've found\n",
        "!wget https://www.tensorflow.org/tutorials/text/image_captioning_files/output_9Psd1quzaAWg_2.png -O img2.jpg\n",
        "\n",
        "img = plt.imread('img2.jpg')\n",
        "img = cv2.resize(img, (299, 299)).astype('float32') / 255.\n",
        "\n",
        "plt.imshow(img)\n",
        "plt.show()\n",
        "\n",
        "for i in range(10):\n",
        "    print(' '.join(generate_caption(img, t=5.)[1:-1]))"
      ]
    },
    {
      "cell_type": "markdown",
      "metadata": {
        "id": "xBzfq5GnjOCG"
      },
      "source": [
        "## Бонус: Achtung"
      ]
    },
    {
      "cell_type": "markdown",
      "metadata": {
        "id": "n0MwQJowjUu-"
      },
      "source": [
        "В качестве бонусного задания предлагается реализовать механизм attention в rnn-сети, которую мы писали в базовой части."
      ]
    }
  ],
  "metadata": {
    "accelerator": "GPU",
    "colab": {
      "collapsed_sections": [
        "U09ROGRbtmPD",
        "xBzfq5GnjOCG"
      ],
      "name": "image_captionong.ipynb",
      "provenance": []
    },
    "kernelspec": {
      "display_name": "Python 3",
      "language": "python",
      "name": "python3"
    },
    "language_info": {
      "codemirror_mode": {
        "name": "ipython",
        "version": 3
      },
      "file_extension": ".py",
      "mimetype": "text/x-python",
      "name": "python",
      "nbconvert_exporter": "python",
      "pygments_lexer": "ipython3",
      "version": "3.6.4"
    },
    "widgets": {
      "application/vnd.jupyter.widget-state+json": {
        "1623c01f9a444e6e99869cc04a79c9fa": {
          "model_module": "@jupyter-widgets/controls",
          "model_name": "HBoxModel",
          "model_module_version": "1.5.0",
          "state": {
            "_view_name": "HBoxView",
            "_dom_classes": [],
            "_model_name": "HBoxModel",
            "_view_module": "@jupyter-widgets/controls",
            "_model_module_version": "1.5.0",
            "_view_count": null,
            "_view_module_version": "1.5.0",
            "box_style": "",
            "layout": "IPY_MODEL_a298b39998b344e3bb2f5f88ea1ab4cf",
            "_model_module": "@jupyter-widgets/controls",
            "children": [
              "IPY_MODEL_65affa4a89c6461694cebd66afa6b27d",
              "IPY_MODEL_f61c3d9a8a2341a68e8f7d34885e871d",
              "IPY_MODEL_cc10d2658dd64181aab9f5d3285d6133"
            ]
          }
        },
        "a298b39998b344e3bb2f5f88ea1ab4cf": {
          "model_module": "@jupyter-widgets/base",
          "model_name": "LayoutModel",
          "model_module_version": "1.2.0",
          "state": {
            "_view_name": "LayoutView",
            "grid_template_rows": null,
            "right": null,
            "justify_content": null,
            "_view_module": "@jupyter-widgets/base",
            "overflow": null,
            "_model_module_version": "1.2.0",
            "_view_count": null,
            "flex_flow": null,
            "width": null,
            "min_width": null,
            "border": null,
            "align_items": null,
            "bottom": null,
            "_model_module": "@jupyter-widgets/base",
            "top": null,
            "grid_column": null,
            "overflow_y": null,
            "overflow_x": null,
            "grid_auto_flow": null,
            "grid_area": null,
            "grid_template_columns": null,
            "flex": null,
            "_model_name": "LayoutModel",
            "justify_items": null,
            "grid_row": null,
            "max_height": null,
            "align_content": null,
            "visibility": null,
            "align_self": null,
            "height": null,
            "min_height": null,
            "padding": null,
            "grid_auto_rows": null,
            "grid_gap": null,
            "max_width": null,
            "order": null,
            "_view_module_version": "1.2.0",
            "grid_template_areas": null,
            "object_position": null,
            "object_fit": null,
            "grid_auto_columns": null,
            "margin": null,
            "display": null,
            "left": null
          }
        },
        "65affa4a89c6461694cebd66afa6b27d": {
          "model_module": "@jupyter-widgets/controls",
          "model_name": "HTMLModel",
          "model_module_version": "1.5.0",
          "state": {
            "_view_name": "HTMLView",
            "style": "IPY_MODEL_c0b90fd899d34356a14229d842b8e0bf",
            "_dom_classes": [],
            "description": "",
            "_model_name": "HTMLModel",
            "placeholder": "​",
            "_view_module": "@jupyter-widgets/controls",
            "_model_module_version": "1.5.0",
            "value": "100%",
            "_view_count": null,
            "_view_module_version": "1.5.0",
            "description_tooltip": null,
            "_model_module": "@jupyter-widgets/controls",
            "layout": "IPY_MODEL_f8f78e5ead464be79d408b26d69d7b69"
          }
        },
        "f61c3d9a8a2341a68e8f7d34885e871d": {
          "model_module": "@jupyter-widgets/controls",
          "model_name": "FloatProgressModel",
          "model_module_version": "1.5.0",
          "state": {
            "_view_name": "ProgressView",
            "style": "IPY_MODEL_225c6329fca34c188258484900e39e0a",
            "_dom_classes": [],
            "description": "",
            "_model_name": "FloatProgressModel",
            "bar_style": "success",
            "max": 108857766,
            "_view_module": "@jupyter-widgets/controls",
            "_model_module_version": "1.5.0",
            "value": 108857766,
            "_view_count": null,
            "_view_module_version": "1.5.0",
            "orientation": "horizontal",
            "min": 0,
            "description_tooltip": null,
            "_model_module": "@jupyter-widgets/controls",
            "layout": "IPY_MODEL_d940b5e5ff064ae78d1bb9fc72d11500"
          }
        },
        "cc10d2658dd64181aab9f5d3285d6133": {
          "model_module": "@jupyter-widgets/controls",
          "model_name": "HTMLModel",
          "model_module_version": "1.5.0",
          "state": {
            "_view_name": "HTMLView",
            "style": "IPY_MODEL_5e39dcf10f5b41b3af4a2b6172e1cb4d",
            "_dom_classes": [],
            "description": "",
            "_model_name": "HTMLModel",
            "placeholder": "​",
            "_view_module": "@jupyter-widgets/controls",
            "_model_module_version": "1.5.0",
            "value": " 104M/104M [00:03&lt;00:00, 14.4MB/s]",
            "_view_count": null,
            "_view_module_version": "1.5.0",
            "description_tooltip": null,
            "_model_module": "@jupyter-widgets/controls",
            "layout": "IPY_MODEL_23d186e8fc424cbf9bbdb62423810936"
          }
        },
        "c0b90fd899d34356a14229d842b8e0bf": {
          "model_module": "@jupyter-widgets/controls",
          "model_name": "DescriptionStyleModel",
          "model_module_version": "1.5.0",
          "state": {
            "_view_name": "StyleView",
            "_model_name": "DescriptionStyleModel",
            "description_width": "",
            "_view_module": "@jupyter-widgets/base",
            "_model_module_version": "1.5.0",
            "_view_count": null,
            "_view_module_version": "1.2.0",
            "_model_module": "@jupyter-widgets/controls"
          }
        },
        "f8f78e5ead464be79d408b26d69d7b69": {
          "model_module": "@jupyter-widgets/base",
          "model_name": "LayoutModel",
          "model_module_version": "1.2.0",
          "state": {
            "_view_name": "LayoutView",
            "grid_template_rows": null,
            "right": null,
            "justify_content": null,
            "_view_module": "@jupyter-widgets/base",
            "overflow": null,
            "_model_module_version": "1.2.0",
            "_view_count": null,
            "flex_flow": null,
            "width": null,
            "min_width": null,
            "border": null,
            "align_items": null,
            "bottom": null,
            "_model_module": "@jupyter-widgets/base",
            "top": null,
            "grid_column": null,
            "overflow_y": null,
            "overflow_x": null,
            "grid_auto_flow": null,
            "grid_area": null,
            "grid_template_columns": null,
            "flex": null,
            "_model_name": "LayoutModel",
            "justify_items": null,
            "grid_row": null,
            "max_height": null,
            "align_content": null,
            "visibility": null,
            "align_self": null,
            "height": null,
            "min_height": null,
            "padding": null,
            "grid_auto_rows": null,
            "grid_gap": null,
            "max_width": null,
            "order": null,
            "_view_module_version": "1.2.0",
            "grid_template_areas": null,
            "object_position": null,
            "object_fit": null,
            "grid_auto_columns": null,
            "margin": null,
            "display": null,
            "left": null
          }
        },
        "225c6329fca34c188258484900e39e0a": {
          "model_module": "@jupyter-widgets/controls",
          "model_name": "ProgressStyleModel",
          "model_module_version": "1.5.0",
          "state": {
            "_view_name": "StyleView",
            "_model_name": "ProgressStyleModel",
            "description_width": "",
            "_view_module": "@jupyter-widgets/base",
            "_model_module_version": "1.5.0",
            "_view_count": null,
            "_view_module_version": "1.2.0",
            "bar_color": null,
            "_model_module": "@jupyter-widgets/controls"
          }
        },
        "d940b5e5ff064ae78d1bb9fc72d11500": {
          "model_module": "@jupyter-widgets/base",
          "model_name": "LayoutModel",
          "model_module_version": "1.2.0",
          "state": {
            "_view_name": "LayoutView",
            "grid_template_rows": null,
            "right": null,
            "justify_content": null,
            "_view_module": "@jupyter-widgets/base",
            "overflow": null,
            "_model_module_version": "1.2.0",
            "_view_count": null,
            "flex_flow": null,
            "width": null,
            "min_width": null,
            "border": null,
            "align_items": null,
            "bottom": null,
            "_model_module": "@jupyter-widgets/base",
            "top": null,
            "grid_column": null,
            "overflow_y": null,
            "overflow_x": null,
            "grid_auto_flow": null,
            "grid_area": null,
            "grid_template_columns": null,
            "flex": null,
            "_model_name": "LayoutModel",
            "justify_items": null,
            "grid_row": null,
            "max_height": null,
            "align_content": null,
            "visibility": null,
            "align_self": null,
            "height": null,
            "min_height": null,
            "padding": null,
            "grid_auto_rows": null,
            "grid_gap": null,
            "max_width": null,
            "order": null,
            "_view_module_version": "1.2.0",
            "grid_template_areas": null,
            "object_position": null,
            "object_fit": null,
            "grid_auto_columns": null,
            "margin": null,
            "display": null,
            "left": null
          }
        },
        "5e39dcf10f5b41b3af4a2b6172e1cb4d": {
          "model_module": "@jupyter-widgets/controls",
          "model_name": "DescriptionStyleModel",
          "model_module_version": "1.5.0",
          "state": {
            "_view_name": "StyleView",
            "_model_name": "DescriptionStyleModel",
            "description_width": "",
            "_view_module": "@jupyter-widgets/base",
            "_model_module_version": "1.5.0",
            "_view_count": null,
            "_view_module_version": "1.2.0",
            "_model_module": "@jupyter-widgets/controls"
          }
        },
        "23d186e8fc424cbf9bbdb62423810936": {
          "model_module": "@jupyter-widgets/base",
          "model_name": "LayoutModel",
          "model_module_version": "1.2.0",
          "state": {
            "_view_name": "LayoutView",
            "grid_template_rows": null,
            "right": null,
            "justify_content": null,
            "_view_module": "@jupyter-widgets/base",
            "overflow": null,
            "_model_module_version": "1.2.0",
            "_view_count": null,
            "flex_flow": null,
            "width": null,
            "min_width": null,
            "border": null,
            "align_items": null,
            "bottom": null,
            "_model_module": "@jupyter-widgets/base",
            "top": null,
            "grid_column": null,
            "overflow_y": null,
            "overflow_x": null,
            "grid_auto_flow": null,
            "grid_area": null,
            "grid_template_columns": null,
            "flex": null,
            "_model_name": "LayoutModel",
            "justify_items": null,
            "grid_row": null,
            "max_height": null,
            "align_content": null,
            "visibility": null,
            "align_self": null,
            "height": null,
            "min_height": null,
            "padding": null,
            "grid_auto_rows": null,
            "grid_gap": null,
            "max_width": null,
            "order": null,
            "_view_module_version": "1.2.0",
            "grid_template_areas": null,
            "object_position": null,
            "object_fit": null,
            "grid_auto_columns": null,
            "margin": null,
            "display": null,
            "left": null
          }
        }
      }
    }
  },
  "nbformat": 4,
  "nbformat_minor": 0
}